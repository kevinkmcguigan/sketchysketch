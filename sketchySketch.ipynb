{
  "nbformat": 4,
  "nbformat_minor": 0,
  "metadata": {
    "colab": {
      "name": "sketchySketch.ipynb",
      "provenance": [],
      "collapsed_sections": [],
      "authorship_tag": "ABX9TyNO2x0XfWPW6NeHQuoh12Ff",
      "include_colab_link": true
    },
    "kernelspec": {
      "name": "python3",
      "display_name": "Python 3"
    },
    "language_info": {
      "name": "python"
    },
    "widgets": {
      "application/vnd.jupyter.widget-state+json": {
        "7123c4d3dadd4ae3b43f072fc2a9d322": {
          "model_module": "@jupyter-widgets/controls",
          "model_name": "ButtonModel",
          "state": {
            "_view_name": "ButtonView",
            "style": "IPY_MODEL_fca50f0d55b740da8719565d01898cd9",
            "_dom_classes": [],
            "description": "Click Me!",
            "_model_name": "ButtonModel",
            "button_style": "",
            "_view_module": "@jupyter-widgets/controls",
            "_model_module_version": "1.5.0",
            "tooltip": "",
            "_view_count": null,
            "disabled": false,
            "_view_module_version": "1.5.0",
            "layout": "IPY_MODEL_8767e5e7c21f4da4bbdc72d5d3405d1c",
            "_model_module": "@jupyter-widgets/controls",
            "icon": ""
          }
        },
        "fca50f0d55b740da8719565d01898cd9": {
          "model_module": "@jupyter-widgets/controls",
          "model_name": "ButtonStyleModel",
          "state": {
            "_view_name": "StyleView",
            "_model_name": "ButtonStyleModel",
            "_view_module": "@jupyter-widgets/base",
            "_model_module_version": "1.5.0",
            "_view_count": null,
            "button_color": null,
            "font_weight": "",
            "_view_module_version": "1.2.0",
            "_model_module": "@jupyter-widgets/controls"
          }
        },
        "8767e5e7c21f4da4bbdc72d5d3405d1c": {
          "model_module": "@jupyter-widgets/base",
          "model_name": "LayoutModel",
          "state": {
            "_view_name": "LayoutView",
            "grid_template_rows": null,
            "right": null,
            "justify_content": null,
            "_view_module": "@jupyter-widgets/base",
            "overflow": null,
            "_model_module_version": "1.2.0",
            "_view_count": null,
            "flex_flow": null,
            "width": null,
            "min_width": null,
            "border": null,
            "align_items": null,
            "bottom": null,
            "_model_module": "@jupyter-widgets/base",
            "top": null,
            "grid_column": null,
            "overflow_y": null,
            "overflow_x": null,
            "grid_auto_flow": null,
            "grid_area": null,
            "grid_template_columns": null,
            "flex": null,
            "_model_name": "LayoutModel",
            "justify_items": null,
            "grid_row": null,
            "max_height": null,
            "align_content": null,
            "visibility": null,
            "align_self": null,
            "height": null,
            "min_height": null,
            "padding": null,
            "grid_auto_rows": null,
            "grid_gap": null,
            "max_width": null,
            "order": null,
            "_view_module_version": "1.2.0",
            "grid_template_areas": null,
            "object_position": null,
            "object_fit": null,
            "grid_auto_columns": null,
            "margin": null,
            "display": null,
            "left": null
          }
        },
        "6d29ea639b1d4d8f9960a2761cbe7e3f": {
          "model_module": "@jupyter-widgets/output",
          "model_name": "OutputModel",
          "state": {
            "_view_name": "OutputView",
            "msg_id": "",
            "_dom_classes": [],
            "_model_name": "OutputModel",
            "outputs": [],
            "_view_module": "@jupyter-widgets/output",
            "_model_module_version": "1.0.0",
            "_view_count": null,
            "_view_module_version": "1.0.0",
            "layout": "IPY_MODEL_82017d7322c64b6ab89b00cd2c65c684",
            "_model_module": "@jupyter-widgets/output"
          }
        },
        "82017d7322c64b6ab89b00cd2c65c684": {
          "model_module": "@jupyter-widgets/base",
          "model_name": "LayoutModel",
          "state": {
            "_view_name": "LayoutView",
            "grid_template_rows": null,
            "right": null,
            "justify_content": null,
            "_view_module": "@jupyter-widgets/base",
            "overflow": null,
            "_model_module_version": "1.2.0",
            "_view_count": null,
            "flex_flow": null,
            "width": null,
            "min_width": null,
            "border": null,
            "align_items": null,
            "bottom": null,
            "_model_module": "@jupyter-widgets/base",
            "top": null,
            "grid_column": null,
            "overflow_y": null,
            "overflow_x": null,
            "grid_auto_flow": null,
            "grid_area": null,
            "grid_template_columns": null,
            "flex": null,
            "_model_name": "LayoutModel",
            "justify_items": null,
            "grid_row": null,
            "max_height": null,
            "align_content": null,
            "visibility": null,
            "align_self": null,
            "height": null,
            "min_height": null,
            "padding": null,
            "grid_auto_rows": null,
            "grid_gap": null,
            "max_width": null,
            "order": null,
            "_view_module_version": "1.2.0",
            "grid_template_areas": null,
            "object_position": null,
            "object_fit": null,
            "grid_auto_columns": null,
            "margin": null,
            "display": null,
            "left": null
          }
        },
        "c73f87b8911c4fe8976e6c1ffd4befa8": {
          "model_module": "@jupyter-widgets/controls",
          "model_name": "VBoxModel",
          "state": {
            "_view_name": "VBoxView",
            "_dom_classes": [],
            "_model_name": "VBoxModel",
            "_view_module": "@jupyter-widgets/controls",
            "_model_module_version": "1.5.0",
            "_view_count": null,
            "_view_module_version": "1.5.0",
            "box_style": "",
            "layout": "IPY_MODEL_b28ed7d98b304b7aa20c24fc190cd99f",
            "_model_module": "@jupyter-widgets/controls",
            "children": [
              "IPY_MODEL_bc741a5fbd0d45c894619ce0143446a3",
              "IPY_MODEL_d5419a1f76164e1b837663567a9fdb88"
            ]
          }
        },
        "b28ed7d98b304b7aa20c24fc190cd99f": {
          "model_module": "@jupyter-widgets/base",
          "model_name": "LayoutModel",
          "state": {
            "_view_name": "LayoutView",
            "grid_template_rows": null,
            "right": null,
            "justify_content": null,
            "_view_module": "@jupyter-widgets/base",
            "overflow": null,
            "_model_module_version": "1.2.0",
            "_view_count": null,
            "flex_flow": null,
            "width": null,
            "min_width": null,
            "border": null,
            "align_items": null,
            "bottom": null,
            "_model_module": "@jupyter-widgets/base",
            "top": null,
            "grid_column": null,
            "overflow_y": null,
            "overflow_x": null,
            "grid_auto_flow": null,
            "grid_area": null,
            "grid_template_columns": null,
            "flex": null,
            "_model_name": "LayoutModel",
            "justify_items": null,
            "grid_row": null,
            "max_height": null,
            "align_content": null,
            "visibility": null,
            "align_self": null,
            "height": null,
            "min_height": null,
            "padding": null,
            "grid_auto_rows": null,
            "grid_gap": null,
            "max_width": null,
            "order": null,
            "_view_module_version": "1.2.0",
            "grid_template_areas": null,
            "object_position": null,
            "object_fit": null,
            "grid_auto_columns": null,
            "margin": null,
            "display": null,
            "left": null
          }
        },
        "bc741a5fbd0d45c894619ce0143446a3": {
          "model_module": "@jupyter-widgets/controls",
          "model_name": "ButtonModel",
          "state": {
            "_view_name": "ButtonView",
            "style": "IPY_MODEL_27fedb9a66494e41941baaba4eff7d9d",
            "_dom_classes": [],
            "description": "My Button",
            "_model_name": "ButtonModel",
            "button_style": "",
            "_view_module": "@jupyter-widgets/controls",
            "_model_module_version": "1.5.0",
            "tooltip": "",
            "_view_count": null,
            "disabled": false,
            "_view_module_version": "1.5.0",
            "layout": "IPY_MODEL_e3c9ff5f63ea46c592739becafbc1b65",
            "_model_module": "@jupyter-widgets/controls",
            "icon": ""
          }
        },
        "d5419a1f76164e1b837663567a9fdb88": {
          "model_module": "@jupyter-widgets/output",
          "model_name": "OutputModel",
          "state": {
            "_view_name": "OutputView",
            "msg_id": "",
            "_dom_classes": [],
            "_model_name": "OutputModel",
            "outputs": [
              {
                "output_type": "display_data",
                "metadata": {
                  "tags": [],
                  "needs_background": "light"
                },
                "image/png": "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\n",
                "text/plain": "<Figure size 432x288 with 1 Axes>"
              },
              {
                "output_type": "stream",
                "metadata": {
                  "tags": []
                },
                "text": "hi\n",
                "stream": "stdout"
              }
            ],
            "_view_module": "@jupyter-widgets/output",
            "_model_module_version": "1.0.0",
            "_view_count": null,
            "_view_module_version": "1.0.0",
            "layout": "IPY_MODEL_321b376749f84b199d0e798494382f61",
            "_model_module": "@jupyter-widgets/output"
          }
        },
        "27fedb9a66494e41941baaba4eff7d9d": {
          "model_module": "@jupyter-widgets/controls",
          "model_name": "ButtonStyleModel",
          "state": {
            "_view_name": "StyleView",
            "_model_name": "ButtonStyleModel",
            "_view_module": "@jupyter-widgets/base",
            "_model_module_version": "1.5.0",
            "_view_count": null,
            "button_color": null,
            "font_weight": "",
            "_view_module_version": "1.2.0",
            "_model_module": "@jupyter-widgets/controls"
          }
        },
        "e3c9ff5f63ea46c592739becafbc1b65": {
          "model_module": "@jupyter-widgets/base",
          "model_name": "LayoutModel",
          "state": {
            "_view_name": "LayoutView",
            "grid_template_rows": null,
            "right": null,
            "justify_content": null,
            "_view_module": "@jupyter-widgets/base",
            "overflow": null,
            "_model_module_version": "1.2.0",
            "_view_count": null,
            "flex_flow": null,
            "width": null,
            "min_width": null,
            "border": null,
            "align_items": null,
            "bottom": null,
            "_model_module": "@jupyter-widgets/base",
            "top": null,
            "grid_column": null,
            "overflow_y": null,
            "overflow_x": null,
            "grid_auto_flow": null,
            "grid_area": null,
            "grid_template_columns": null,
            "flex": null,
            "_model_name": "LayoutModel",
            "justify_items": null,
            "grid_row": null,
            "max_height": null,
            "align_content": null,
            "visibility": null,
            "align_self": null,
            "height": null,
            "min_height": null,
            "padding": null,
            "grid_auto_rows": null,
            "grid_gap": null,
            "max_width": null,
            "order": null,
            "_view_module_version": "1.2.0",
            "grid_template_areas": null,
            "object_position": null,
            "object_fit": null,
            "grid_auto_columns": null,
            "margin": null,
            "display": null,
            "left": null
          }
        },
        "321b376749f84b199d0e798494382f61": {
          "model_module": "@jupyter-widgets/base",
          "model_name": "LayoutModel",
          "state": {
            "_view_name": "LayoutView",
            "grid_template_rows": null,
            "right": null,
            "justify_content": null,
            "_view_module": "@jupyter-widgets/base",
            "overflow": null,
            "_model_module_version": "1.2.0",
            "_view_count": null,
            "flex_flow": null,
            "width": null,
            "min_width": null,
            "border": null,
            "align_items": null,
            "bottom": null,
            "_model_module": "@jupyter-widgets/base",
            "top": null,
            "grid_column": null,
            "overflow_y": null,
            "overflow_x": null,
            "grid_auto_flow": null,
            "grid_area": null,
            "grid_template_columns": null,
            "flex": null,
            "_model_name": "LayoutModel",
            "justify_items": null,
            "grid_row": null,
            "max_height": null,
            "align_content": null,
            "visibility": null,
            "align_self": null,
            "height": null,
            "min_height": null,
            "padding": null,
            "grid_auto_rows": null,
            "grid_gap": null,
            "max_width": null,
            "order": null,
            "_view_module_version": "1.2.0",
            "grid_template_areas": null,
            "object_position": null,
            "object_fit": null,
            "grid_auto_columns": null,
            "margin": null,
            "display": null,
            "left": null
          }
        },
        "e556fa114762430dbd377122fbe366e8": {
          "model_module": "@jupyter-widgets/controls",
          "model_name": "VBoxModel",
          "state": {
            "_view_name": "VBoxView",
            "_dom_classes": [
              "widget-interact"
            ],
            "_model_name": "VBoxModel",
            "_view_module": "@jupyter-widgets/controls",
            "_model_module_version": "1.5.0",
            "_view_count": null,
            "_view_module_version": "1.5.0",
            "box_style": "",
            "layout": "IPY_MODEL_20927ff330da49faa8f390e94da02e6b",
            "_model_module": "@jupyter-widgets/controls",
            "children": [
              "IPY_MODEL_9a13005961934a638dd40f55ab0db6d2",
              "IPY_MODEL_9c553b4fb81a45058ac7528737b1872b",
              "IPY_MODEL_5f45496e1cc346b5bdaee4ecab4a91db"
            ]
          }
        },
        "20927ff330da49faa8f390e94da02e6b": {
          "model_module": "@jupyter-widgets/base",
          "model_name": "LayoutModel",
          "state": {
            "_view_name": "LayoutView",
            "grid_template_rows": null,
            "right": null,
            "justify_content": null,
            "_view_module": "@jupyter-widgets/base",
            "overflow": null,
            "_model_module_version": "1.2.0",
            "_view_count": null,
            "flex_flow": null,
            "width": null,
            "min_width": null,
            "border": null,
            "align_items": null,
            "bottom": null,
            "_model_module": "@jupyter-widgets/base",
            "top": null,
            "grid_column": null,
            "overflow_y": null,
            "overflow_x": null,
            "grid_auto_flow": null,
            "grid_area": null,
            "grid_template_columns": null,
            "flex": null,
            "_model_name": "LayoutModel",
            "justify_items": null,
            "grid_row": null,
            "max_height": null,
            "align_content": null,
            "visibility": null,
            "align_self": null,
            "height": null,
            "min_height": null,
            "padding": null,
            "grid_auto_rows": null,
            "grid_gap": null,
            "max_width": null,
            "order": null,
            "_view_module_version": "1.2.0",
            "grid_template_areas": null,
            "object_position": null,
            "object_fit": null,
            "grid_auto_columns": null,
            "margin": null,
            "display": null,
            "left": null
          }
        },
        "9a13005961934a638dd40f55ab0db6d2": {
          "model_module": "@jupyter-widgets/controls",
          "model_name": "IntSliderModel",
          "state": {
            "_view_name": "IntSliderView",
            "style": "IPY_MODEL_694f2986d3c4480a8169f792b416a483",
            "_dom_classes": [],
            "description": "x",
            "step": 1,
            "_model_name": "IntSliderModel",
            "orientation": "horizontal",
            "max": 150,
            "_view_module": "@jupyter-widgets/controls",
            "_model_module_version": "1.5.0",
            "value": 46,
            "_view_count": null,
            "disabled": false,
            "_view_module_version": "1.5.0",
            "min": -50,
            "continuous_update": true,
            "readout_format": "d",
            "description_tooltip": null,
            "readout": true,
            "_model_module": "@jupyter-widgets/controls",
            "layout": "IPY_MODEL_f459c743b06c4b0fb0e26ac72214389d"
          }
        },
        "9c553b4fb81a45058ac7528737b1872b": {
          "model_module": "@jupyter-widgets/controls",
          "model_name": "IntSliderModel",
          "state": {
            "_view_name": "IntSliderView",
            "style": "IPY_MODEL_a4c98ac00cb146a389f9e25b825956a5",
            "_dom_classes": [],
            "description": "y",
            "step": 1,
            "_model_name": "IntSliderModel",
            "orientation": "horizontal",
            "max": 150,
            "_view_module": "@jupyter-widgets/controls",
            "_model_module_version": "1.5.0",
            "value": -24,
            "_view_count": null,
            "disabled": false,
            "_view_module_version": "1.5.0",
            "min": -50,
            "continuous_update": true,
            "readout_format": "d",
            "description_tooltip": null,
            "readout": true,
            "_model_module": "@jupyter-widgets/controls",
            "layout": "IPY_MODEL_b244121c3bed476283405f20ac39e5a9"
          }
        },
        "5f45496e1cc346b5bdaee4ecab4a91db": {
          "model_module": "@jupyter-widgets/output",
          "model_name": "OutputModel",
          "state": {
            "_view_name": "OutputView",
            "msg_id": "",
            "_dom_classes": [],
            "_model_name": "OutputModel",
            "outputs": [
              {
                "output_type": "display_data",
                "metadata": {
                  "tags": [],
                  "needs_background": "light"
                },
                "image/png": "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\n",
                "text/plain": "<Figure size 432x288 with 1 Axes>"
              }
            ],
            "_view_module": "@jupyter-widgets/output",
            "_model_module_version": "1.0.0",
            "_view_count": null,
            "_view_module_version": "1.0.0",
            "layout": "IPY_MODEL_3c241a76f05a4acebd8a28c789d96e63",
            "_model_module": "@jupyter-widgets/output"
          }
        },
        "694f2986d3c4480a8169f792b416a483": {
          "model_module": "@jupyter-widgets/controls",
          "model_name": "SliderStyleModel",
          "state": {
            "_view_name": "StyleView",
            "handle_color": null,
            "_model_name": "SliderStyleModel",
            "description_width": "",
            "_view_module": "@jupyter-widgets/base",
            "_model_module_version": "1.5.0",
            "_view_count": null,
            "_view_module_version": "1.2.0",
            "_model_module": "@jupyter-widgets/controls"
          }
        },
        "f459c743b06c4b0fb0e26ac72214389d": {
          "model_module": "@jupyter-widgets/base",
          "model_name": "LayoutModel",
          "state": {
            "_view_name": "LayoutView",
            "grid_template_rows": null,
            "right": null,
            "justify_content": null,
            "_view_module": "@jupyter-widgets/base",
            "overflow": null,
            "_model_module_version": "1.2.0",
            "_view_count": null,
            "flex_flow": null,
            "width": null,
            "min_width": null,
            "border": null,
            "align_items": null,
            "bottom": null,
            "_model_module": "@jupyter-widgets/base",
            "top": null,
            "grid_column": null,
            "overflow_y": null,
            "overflow_x": null,
            "grid_auto_flow": null,
            "grid_area": null,
            "grid_template_columns": null,
            "flex": null,
            "_model_name": "LayoutModel",
            "justify_items": null,
            "grid_row": null,
            "max_height": null,
            "align_content": null,
            "visibility": null,
            "align_self": null,
            "height": null,
            "min_height": null,
            "padding": null,
            "grid_auto_rows": null,
            "grid_gap": null,
            "max_width": null,
            "order": null,
            "_view_module_version": "1.2.0",
            "grid_template_areas": null,
            "object_position": null,
            "object_fit": null,
            "grid_auto_columns": null,
            "margin": null,
            "display": null,
            "left": null
          }
        },
        "a4c98ac00cb146a389f9e25b825956a5": {
          "model_module": "@jupyter-widgets/controls",
          "model_name": "SliderStyleModel",
          "state": {
            "_view_name": "StyleView",
            "handle_color": null,
            "_model_name": "SliderStyleModel",
            "description_width": "",
            "_view_module": "@jupyter-widgets/base",
            "_model_module_version": "1.5.0",
            "_view_count": null,
            "_view_module_version": "1.2.0",
            "_model_module": "@jupyter-widgets/controls"
          }
        },
        "b244121c3bed476283405f20ac39e5a9": {
          "model_module": "@jupyter-widgets/base",
          "model_name": "LayoutModel",
          "state": {
            "_view_name": "LayoutView",
            "grid_template_rows": null,
            "right": null,
            "justify_content": null,
            "_view_module": "@jupyter-widgets/base",
            "overflow": null,
            "_model_module_version": "1.2.0",
            "_view_count": null,
            "flex_flow": null,
            "width": null,
            "min_width": null,
            "border": null,
            "align_items": null,
            "bottom": null,
            "_model_module": "@jupyter-widgets/base",
            "top": null,
            "grid_column": null,
            "overflow_y": null,
            "overflow_x": null,
            "grid_auto_flow": null,
            "grid_area": null,
            "grid_template_columns": null,
            "flex": null,
            "_model_name": "LayoutModel",
            "justify_items": null,
            "grid_row": null,
            "max_height": null,
            "align_content": null,
            "visibility": null,
            "align_self": null,
            "height": null,
            "min_height": null,
            "padding": null,
            "grid_auto_rows": null,
            "grid_gap": null,
            "max_width": null,
            "order": null,
            "_view_module_version": "1.2.0",
            "grid_template_areas": null,
            "object_position": null,
            "object_fit": null,
            "grid_auto_columns": null,
            "margin": null,
            "display": null,
            "left": null
          }
        },
        "3c241a76f05a4acebd8a28c789d96e63": {
          "model_module": "@jupyter-widgets/base",
          "model_name": "LayoutModel",
          "state": {
            "_view_name": "LayoutView",
            "grid_template_rows": null,
            "right": null,
            "justify_content": null,
            "_view_module": "@jupyter-widgets/base",
            "overflow": null,
            "_model_module_version": "1.2.0",
            "_view_count": null,
            "flex_flow": null,
            "width": null,
            "min_width": null,
            "border": null,
            "align_items": null,
            "bottom": null,
            "_model_module": "@jupyter-widgets/base",
            "top": null,
            "grid_column": null,
            "overflow_y": null,
            "overflow_x": null,
            "grid_auto_flow": null,
            "grid_area": null,
            "grid_template_columns": null,
            "flex": null,
            "_model_name": "LayoutModel",
            "justify_items": null,
            "grid_row": null,
            "max_height": null,
            "align_content": null,
            "visibility": null,
            "align_self": null,
            "height": null,
            "min_height": null,
            "padding": null,
            "grid_auto_rows": null,
            "grid_gap": null,
            "max_width": null,
            "order": null,
            "_view_module_version": "1.2.0",
            "grid_template_areas": null,
            "object_position": null,
            "object_fit": null,
            "grid_auto_columns": null,
            "margin": null,
            "display": null,
            "left": null
          }
        }
      }
    }
  },
  "cells": [
    {
      "cell_type": "markdown",
      "metadata": {
        "id": "view-in-github",
        "colab_type": "text"
      },
      "source": [
        "<a href=\"https://colab.research.google.com/github/kevinkmcguigan/sketchysketch/blob/main/sketchySketch.ipynb\" target=\"_parent\"><img src=\"https://colab.research.google.com/assets/colab-badge.svg\" alt=\"Open In Colab\"/></a>"
      ]
    },
    {
      "cell_type": "code",
      "metadata": {
        "id": "RSKv1RdIwvl0"
      },
      "source": [
        "import numpy as np\n",
        "from matplotlib import pyplot as plt\n",
        "import plotly.express as px"
      ],
      "execution_count": 27,
      "outputs": []
    },
    {
      "cell_type": "code",
      "metadata": {
        "id": "RcXHAtg6x6wk"
      },
      "source": [
        "sketchy = np.zeros((100,100))"
      ],
      "execution_count": 28,
      "outputs": []
    },
    {
      "cell_type": "code",
      "metadata": {
        "id": "6WuxYwuZ7A-u"
      },
      "source": [
        "from ipywidgets import interact, interactive, fixed, interact_manual\n",
        "from IPython.display import display, Markdown, clear_output"
      ],
      "execution_count": 70,
      "outputs": []
    },
    {
      "cell_type": "code",
      "metadata": {
        "id": "4x7cwKOD7CPh"
      },
      "source": [
        "def f(x,y):\n",
        "  sketchy[x,y]=1\n",
        "  if 1: #use matplotlib\n",
        "    plt.ion()\n",
        "    plt.imshow(sketchy)\n",
        "    plt.show()\n",
        "  if 0: #use plotly\n",
        "    fig = px.imshow(sketchy)\n",
        "    fig.update_layout(width=400, height=400, margin=dict(l=10, r=10, b=10, t=10))\n",
        "    fig.update_xaxes(showticklabels=False).update_yaxes(showticklabels=False)\n",
        "    fig.show()"
      ],
      "execution_count": 48,
      "outputs": []
    },
    {
      "cell_type": "code",
      "metadata": {
        "colab": {
          "base_uri": "https://localhost:8080/",
          "height": 49,
          "referenced_widgets": [
            "7123c4d3dadd4ae3b43f072fc2a9d322",
            "fca50f0d55b740da8719565d01898cd9",
            "8767e5e7c21f4da4bbdc72d5d3405d1c",
            "6d29ea639b1d4d8f9960a2761cbe7e3f",
            "82017d7322c64b6ab89b00cd2c65c684"
          ]
        },
        "id": "zUtLYZpN8DOq",
        "outputId": "bbbcb69a-c412-4972-a983-2504856e6c32"
      },
      "source": [
        "import ipywidgets as widgets\n",
        "from IPython.display import display\n",
        "button = widgets.Button(description=\"Click Me!\")\n",
        "output = widgets.Output()\n",
        "\n",
        "display(button, output)\n",
        "\n",
        "def on_button_clicked(b):\n",
        "    with output:\n",
        "        print(\"Button clicked.\")\n",
        "\n",
        "button.on_click(on_button_clicked)"
      ],
      "execution_count": 46,
      "outputs": [
        {
          "output_type": "display_data",
          "data": {
            "application/vnd.jupyter.widget-view+json": {
              "model_id": "7123c4d3dadd4ae3b43f072fc2a9d322",
              "version_minor": 0,
              "version_major": 2
            },
            "text/plain": [
              "Button(description='Click Me!', style=ButtonStyle())"
            ]
          },
          "metadata": {
            "tags": []
          }
        },
        {
          "output_type": "display_data",
          "data": {
            "application/vnd.jupyter.widget-view+json": {
              "model_id": "6d29ea639b1d4d8f9960a2761cbe7e3f",
              "version_minor": 0,
              "version_major": 2
            },
            "text/plain": [
              "Output()"
            ]
          },
          "metadata": {
            "tags": []
          }
        }
      ]
    },
    {
      "cell_type": "code",
      "metadata": {
        "colab": {
          "base_uri": "https://localhost:8080/",
          "height": 318,
          "referenced_widgets": [
            "c73f87b8911c4fe8976e6c1ffd4befa8",
            "b28ed7d98b304b7aa20c24fc190cd99f",
            "bc741a5fbd0d45c894619ce0143446a3",
            "d5419a1f76164e1b837663567a9fdb88",
            "27fedb9a66494e41941baaba4eff7d9d",
            "e3c9ff5f63ea46c592739becafbc1b65",
            "321b376749f84b199d0e798494382f61"
          ]
        },
        "id": "t3UqI7ogJ19b",
        "outputId": "d2f428e6-82c9-4284-ccbd-e29bc36eee5f"
      },
      "source": [
        "button = widgets.Button(description='My Button')\n",
        "out = widgets.Output()\n",
        "x=0\n",
        "y=50\n",
        "def on_button_clicked(_):\n",
        "      # \"linking function with output\"\n",
        "\n",
        "      with out:\n",
        "          # what happens when we press the button\n",
        "          clear_output()\n",
        "          # x+=1\n",
        "          f(x,y)\n",
        "          print('hi')\n",
        "# linking button and function together using a button's method\n",
        "button.on_click(on_button_clicked)\n",
        "# displaying button and its output together\n",
        "widgets.VBox([button,out])"
      ],
      "execution_count": 71,
      "outputs": [
        {
          "output_type": "display_data",
          "data": {
            "application/vnd.jupyter.widget-view+json": {
              "model_id": "c73f87b8911c4fe8976e6c1ffd4befa8",
              "version_minor": 0,
              "version_major": 2
            },
            "text/plain": [
              "VBox(children=(Button(description='My Button', style=ButtonStyle()), Output()))"
            ]
          },
          "metadata": {
            "tags": []
          }
        }
      ]
    },
    {
      "cell_type": "code",
      "metadata": {
        "colab": {
          "base_uri": "https://localhost:8080/",
          "height": 332,
          "referenced_widgets": [
            "e556fa114762430dbd377122fbe366e8",
            "20927ff330da49faa8f390e94da02e6b",
            "9a13005961934a638dd40f55ab0db6d2",
            "9c553b4fb81a45058ac7528737b1872b",
            "5f45496e1cc346b5bdaee4ecab4a91db",
            "694f2986d3c4480a8169f792b416a483",
            "f459c743b06c4b0fb0e26ac72214389d",
            "a4c98ac00cb146a389f9e25b825956a5",
            "b244121c3bed476283405f20ac39e5a9",
            "3c241a76f05a4acebd8a28c789d96e63"
          ]
        },
        "id": "VhlusoHU7QsC",
        "outputId": "ecc97ea1-26fd-46e6-d7f9-286e1d610301"
      },
      "source": [
        "interact(f, x=50, y=50);\n",
        "# interact_manual(f, x=50, y=50);"
      ],
      "execution_count": 51,
      "outputs": [
        {
          "output_type": "display_data",
          "data": {
            "application/vnd.jupyter.widget-view+json": {
              "model_id": "e556fa114762430dbd377122fbe366e8",
              "version_minor": 0,
              "version_major": 2
            },
            "text/plain": [
              "interactive(children=(IntSlider(value=50, description='x', max=150, min=-50), IntSlider(value=50, description=…"
            ]
          },
          "metadata": {
            "tags": []
          }
        }
      ]
    },
    {
      "cell_type": "code",
      "metadata": {
        "colab": {
          "base_uri": "https://localhost:8080/",
          "height": 417
        },
        "id": "TyKUPlEb40qa",
        "outputId": "0abb937c-52fc-424d-93f8-7103651b97ea"
      },
      "source": [
        "fig = px.imshow(sketchy)\n",
        "fig.update_layout(width=400, height=400, margin=dict(l=10, r=10, b=10, t=10))\n",
        "fig.update_xaxes(showticklabels=False).update_yaxes(showticklabels=False)\n",
        "fig.show()"
      ],
      "execution_count": 72,
      "outputs": [
        {
          "output_type": "display_data",
          "data": {
            "text/html": [
              "<html>\n",
              "<head><meta charset=\"utf-8\" /></head>\n",
              "<body>\n",
              "    <div>\n",
              "            <script src=\"https://cdnjs.cloudflare.com/ajax/libs/mathjax/2.7.5/MathJax.js?config=TeX-AMS-MML_SVG\"></script><script type=\"text/javascript\">if (window.MathJax) {MathJax.Hub.Config({SVG: {font: \"STIX-Web\"}});}</script>\n",
              "                <script type=\"text/javascript\">window.PlotlyConfig = {MathJaxConfig: 'local'};</script>\n",
              "        <script src=\"https://cdn.plot.ly/plotly-latest.min.js\"></script>    \n",
              "            <div id=\"0ce85fc0-eab1-4c70-b9c4-843de5c1f744\" class=\"plotly-graph-div\" style=\"height:400px; width:400px;\"></div>\n",
              "            <script type=\"text/javascript\">\n",
              "                \n",
              "                    window.PLOTLYENV=window.PLOTLYENV || {};\n",
              "                    \n",
              "                if (document.getElementById(\"0ce85fc0-eab1-4c70-b9c4-843de5c1f744\")) {\n",
              "                    Plotly.newPlot(\n",
              "                        '0ce85fc0-eab1-4c70-b9c4-843de5c1f744',\n",
              "                        [{\"coloraxis\": \"coloraxis\", \"type\": \"heatmap\", \"z\": [[1.0, 0.0, 0.0, 0.0, 0.0, 0.0, 0.0, 0.0, 0.0, 0.0, 0.0, 0.0, 0.0, 0.0, 0.0, 0.0, 0.0, 0.0, 0.0, 0.0, 0.0, 0.0, 0.0, 0.0, 0.0, 0.0, 0.0, 0.0, 0.0, 0.0, 0.0, 0.0, 0.0, 0.0, 0.0, 0.0, 0.0, 0.0, 0.0, 0.0, 0.0, 0.0, 0.0, 0.0, 0.0, 0.0, 0.0, 0.0, 0.0, 0.0, 1.0, 0.0, 0.0, 0.0, 0.0, 0.0, 0.0, 0.0, 0.0, 0.0, 0.0, 0.0, 0.0, 0.0, 0.0, 0.0, 0.0, 0.0, 0.0, 0.0, 0.0, 0.0, 0.0, 0.0, 0.0, 0.0, 0.0, 0.0, 0.0, 0.0, 0.0, 0.0, 0.0, 0.0, 0.0, 0.0, 0.0, 0.0, 0.0, 0.0, 0.0, 0.0, 0.0, 0.0, 0.0, 0.0, 0.0, 0.0, 0.0, 0.0], [0.0, 0.0, 0.0, 0.0, 0.0, 0.0, 0.0, 0.0, 0.0, 0.0, 0.0, 0.0, 0.0, 0.0, 0.0, 0.0, 0.0, 0.0, 0.0, 0.0, 0.0, 0.0, 0.0, 0.0, 1.0, 0.0, 0.0, 0.0, 0.0, 0.0, 0.0, 0.0, 0.0, 0.0, 0.0, 0.0, 0.0, 0.0, 0.0, 0.0, 0.0, 0.0, 0.0, 0.0, 0.0, 0.0, 0.0, 0.0, 0.0, 0.0, 0.0, 0.0, 0.0, 0.0, 0.0, 0.0, 0.0, 0.0, 0.0, 0.0, 0.0, 0.0, 0.0, 0.0, 0.0, 0.0, 0.0, 0.0, 0.0, 0.0, 0.0, 0.0, 0.0, 0.0, 0.0, 0.0, 0.0, 0.0, 0.0, 0.0, 0.0, 0.0, 0.0, 0.0, 0.0, 0.0, 0.0, 0.0, 0.0, 0.0, 0.0, 0.0, 0.0, 0.0, 0.0, 0.0, 0.0, 0.0, 0.0, 0.0], [0.0, 0.0, 0.0, 0.0, 0.0, 0.0, 0.0, 0.0, 0.0, 0.0, 0.0, 0.0, 0.0, 0.0, 0.0, 0.0, 0.0, 0.0, 0.0, 0.0, 0.0, 0.0, 0.0, 0.0, 0.0, 0.0, 0.0, 0.0, 0.0, 0.0, 0.0, 0.0, 0.0, 0.0, 0.0, 0.0, 0.0, 0.0, 0.0, 0.0, 0.0, 0.0, 0.0, 0.0, 0.0, 0.0, 0.0, 0.0, 0.0, 0.0, 1.0, 0.0, 0.0, 0.0, 1.0, 0.0, 0.0, 0.0, 0.0, 0.0, 0.0, 0.0, 0.0, 0.0, 0.0, 0.0, 0.0, 0.0, 0.0, 0.0, 0.0, 0.0, 0.0, 0.0, 0.0, 0.0, 0.0, 0.0, 0.0, 0.0, 0.0, 0.0, 0.0, 0.0, 0.0, 0.0, 0.0, 0.0, 0.0, 0.0, 0.0, 0.0, 0.0, 0.0, 0.0, 0.0, 0.0, 0.0, 0.0, 0.0], [0.0, 0.0, 0.0, 0.0, 0.0, 0.0, 0.0, 0.0, 0.0, 0.0, 0.0, 0.0, 0.0, 0.0, 0.0, 0.0, 0.0, 0.0, 0.0, 0.0, 0.0, 0.0, 0.0, 0.0, 0.0, 0.0, 0.0, 0.0, 0.0, 0.0, 0.0, 0.0, 0.0, 0.0, 0.0, 0.0, 0.0, 0.0, 0.0, 0.0, 0.0, 0.0, 0.0, 0.0, 0.0, 0.0, 0.0, 0.0, 0.0, 0.0, 0.0, 0.0, 0.0, 0.0, 0.0, 0.0, 0.0, 0.0, 0.0, 0.0, 0.0, 0.0, 0.0, 0.0, 0.0, 0.0, 0.0, 0.0, 0.0, 0.0, 0.0, 0.0, 0.0, 0.0, 0.0, 0.0, 0.0, 0.0, 0.0, 0.0, 0.0, 0.0, 0.0, 0.0, 0.0, 0.0, 0.0, 0.0, 0.0, 0.0, 0.0, 0.0, 0.0, 0.0, 0.0, 0.0, 0.0, 0.0, 0.0, 0.0], [0.0, 0.0, 0.0, 0.0, 0.0, 0.0, 0.0, 0.0, 0.0, 0.0, 0.0, 0.0, 0.0, 0.0, 0.0, 0.0, 0.0, 0.0, 0.0, 0.0, 0.0, 0.0, 0.0, 0.0, 0.0, 0.0, 0.0, 0.0, 0.0, 0.0, 0.0, 0.0, 0.0, 0.0, 0.0, 0.0, 0.0, 0.0, 0.0, 0.0, 0.0, 0.0, 0.0, 0.0, 0.0, 0.0, 0.0, 0.0, 0.0, 0.0, 0.0, 0.0, 0.0, 0.0, 0.0, 0.0, 0.0, 0.0, 0.0, 0.0, 0.0, 0.0, 0.0, 0.0, 0.0, 0.0, 0.0, 0.0, 0.0, 0.0, 0.0, 0.0, 0.0, 0.0, 0.0, 0.0, 0.0, 0.0, 0.0, 0.0, 0.0, 0.0, 0.0, 0.0, 0.0, 0.0, 0.0, 0.0, 0.0, 0.0, 0.0, 0.0, 0.0, 0.0, 0.0, 0.0, 0.0, 0.0, 0.0, 0.0], [0.0, 0.0, 0.0, 0.0, 0.0, 0.0, 0.0, 0.0, 0.0, 0.0, 0.0, 0.0, 0.0, 0.0, 0.0, 0.0, 0.0, 0.0, 0.0, 0.0, 0.0, 0.0, 0.0, 0.0, 0.0, 0.0, 0.0, 0.0, 0.0, 0.0, 0.0, 0.0, 0.0, 0.0, 0.0, 0.0, 0.0, 0.0, 0.0, 0.0, 0.0, 0.0, 0.0, 0.0, 0.0, 0.0, 0.0, 0.0, 0.0, 0.0, 0.0, 0.0, 0.0, 0.0, 0.0, 0.0, 0.0, 0.0, 0.0, 0.0, 0.0, 0.0, 0.0, 0.0, 0.0, 0.0, 0.0, 0.0, 0.0, 0.0, 0.0, 0.0, 0.0, 0.0, 0.0, 0.0, 0.0, 0.0, 0.0, 0.0, 0.0, 0.0, 0.0, 0.0, 0.0, 0.0, 0.0, 0.0, 0.0, 0.0, 0.0, 0.0, 0.0, 0.0, 0.0, 0.0, 0.0, 0.0, 0.0, 0.0], [0.0, 0.0, 0.0, 0.0, 0.0, 0.0, 0.0, 0.0, 0.0, 0.0, 0.0, 0.0, 0.0, 0.0, 0.0, 0.0, 0.0, 0.0, 0.0, 0.0, 0.0, 0.0, 0.0, 0.0, 0.0, 0.0, 0.0, 0.0, 0.0, 0.0, 0.0, 0.0, 0.0, 0.0, 0.0, 0.0, 0.0, 0.0, 0.0, 0.0, 0.0, 0.0, 0.0, 0.0, 0.0, 0.0, 0.0, 0.0, 0.0, 0.0, 0.0, 0.0, 0.0, 0.0, 0.0, 0.0, 0.0, 0.0, 0.0, 0.0, 0.0, 0.0, 0.0, 0.0, 0.0, 0.0, 0.0, 0.0, 0.0, 0.0, 0.0, 0.0, 0.0, 0.0, 0.0, 0.0, 0.0, 0.0, 0.0, 0.0, 0.0, 0.0, 0.0, 0.0, 0.0, 0.0, 0.0, 0.0, 0.0, 0.0, 0.0, 0.0, 0.0, 0.0, 0.0, 0.0, 0.0, 0.0, 0.0, 0.0], [0.0, 0.0, 0.0, 0.0, 0.0, 0.0, 0.0, 0.0, 0.0, 0.0, 0.0, 0.0, 0.0, 0.0, 0.0, 0.0, 0.0, 1.0, 0.0, 0.0, 1.0, 0.0, 0.0, 0.0, 0.0, 0.0, 0.0, 0.0, 0.0, 0.0, 0.0, 0.0, 0.0, 0.0, 0.0, 0.0, 0.0, 0.0, 0.0, 0.0, 0.0, 0.0, 0.0, 0.0, 0.0, 0.0, 0.0, 0.0, 0.0, 0.0, 0.0, 0.0, 0.0, 0.0, 1.0, 0.0, 0.0, 1.0, 0.0, 0.0, 0.0, 0.0, 0.0, 0.0, 0.0, 0.0, 0.0, 0.0, 0.0, 0.0, 0.0, 0.0, 0.0, 0.0, 0.0, 0.0, 0.0, 0.0, 0.0, 0.0, 0.0, 0.0, 0.0, 0.0, 0.0, 0.0, 0.0, 0.0, 0.0, 0.0, 0.0, 0.0, 0.0, 0.0, 0.0, 0.0, 0.0, 0.0, 0.0, 0.0], [0.0, 0.0, 0.0, 0.0, 0.0, 0.0, 0.0, 0.0, 0.0, 0.0, 0.0, 0.0, 0.0, 0.0, 0.0, 0.0, 0.0, 0.0, 0.0, 0.0, 0.0, 0.0, 0.0, 0.0, 0.0, 0.0, 0.0, 0.0, 0.0, 0.0, 0.0, 0.0, 0.0, 0.0, 0.0, 0.0, 0.0, 0.0, 0.0, 0.0, 0.0, 0.0, 0.0, 0.0, 0.0, 0.0, 0.0, 0.0, 0.0, 0.0, 0.0, 0.0, 0.0, 0.0, 0.0, 0.0, 0.0, 0.0, 0.0, 0.0, 0.0, 1.0, 0.0, 0.0, 0.0, 0.0, 0.0, 0.0, 0.0, 0.0, 0.0, 0.0, 0.0, 0.0, 0.0, 0.0, 0.0, 0.0, 0.0, 0.0, 0.0, 0.0, 0.0, 0.0, 0.0, 0.0, 0.0, 0.0, 0.0, 0.0, 0.0, 0.0, 0.0, 0.0, 0.0, 0.0, 0.0, 0.0, 0.0, 0.0], [0.0, 0.0, 0.0, 0.0, 0.0, 0.0, 0.0, 0.0, 0.0, 0.0, 0.0, 0.0, 0.0, 0.0, 0.0, 0.0, 0.0, 0.0, 0.0, 0.0, 0.0, 0.0, 0.0, 0.0, 0.0, 0.0, 0.0, 0.0, 0.0, 0.0, 0.0, 0.0, 0.0, 0.0, 0.0, 0.0, 0.0, 0.0, 0.0, 0.0, 0.0, 0.0, 0.0, 0.0, 0.0, 0.0, 0.0, 0.0, 0.0, 0.0, 0.0, 0.0, 0.0, 0.0, 0.0, 0.0, 0.0, 0.0, 0.0, 0.0, 0.0, 0.0, 0.0, 0.0, 0.0, 0.0, 0.0, 0.0, 0.0, 0.0, 0.0, 0.0, 0.0, 0.0, 0.0, 0.0, 0.0, 0.0, 0.0, 0.0, 0.0, 0.0, 0.0, 0.0, 0.0, 0.0, 0.0, 0.0, 0.0, 0.0, 0.0, 0.0, 0.0, 0.0, 0.0, 0.0, 0.0, 0.0, 0.0, 0.0], [1.0, 0.0, 0.0, 0.0, 0.0, 0.0, 0.0, 0.0, 0.0, 0.0, 0.0, 0.0, 0.0, 0.0, 0.0, 0.0, 0.0, 0.0, 0.0, 0.0, 0.0, 0.0, 0.0, 0.0, 1.0, 0.0, 0.0, 0.0, 0.0, 0.0, 0.0, 0.0, 0.0, 0.0, 0.0, 0.0, 0.0, 0.0, 0.0, 1.0, 0.0, 0.0, 0.0, 0.0, 0.0, 0.0, 0.0, 0.0, 0.0, 0.0, 1.0, 0.0, 0.0, 0.0, 0.0, 0.0, 0.0, 0.0, 1.0, 1.0, 1.0, 1.0, 0.0, 0.0, 0.0, 0.0, 0.0, 0.0, 0.0, 0.0, 0.0, 0.0, 0.0, 0.0, 0.0, 0.0, 0.0, 0.0, 0.0, 0.0, 0.0, 0.0, 0.0, 0.0, 0.0, 0.0, 0.0, 0.0, 0.0, 0.0, 0.0, 0.0, 0.0, 0.0, 0.0, 0.0, 0.0, 0.0, 0.0, 0.0], [0.0, 0.0, 0.0, 0.0, 0.0, 0.0, 0.0, 0.0, 0.0, 0.0, 0.0, 0.0, 0.0, 0.0, 0.0, 0.0, 0.0, 0.0, 0.0, 0.0, 0.0, 0.0, 0.0, 0.0, 0.0, 0.0, 0.0, 0.0, 0.0, 0.0, 0.0, 0.0, 0.0, 0.0, 0.0, 0.0, 0.0, 0.0, 0.0, 0.0, 0.0, 0.0, 0.0, 0.0, 0.0, 0.0, 0.0, 0.0, 0.0, 0.0, 0.0, 0.0, 0.0, 0.0, 0.0, 0.0, 0.0, 0.0, 0.0, 1.0, 0.0, 0.0, 0.0, 0.0, 0.0, 0.0, 0.0, 0.0, 0.0, 0.0, 0.0, 0.0, 0.0, 0.0, 0.0, 0.0, 0.0, 0.0, 0.0, 0.0, 0.0, 0.0, 0.0, 0.0, 0.0, 0.0, 0.0, 0.0, 0.0, 0.0, 0.0, 0.0, 0.0, 0.0, 0.0, 0.0, 0.0, 0.0, 0.0, 0.0], [0.0, 0.0, 0.0, 0.0, 0.0, 0.0, 0.0, 0.0, 0.0, 0.0, 0.0, 0.0, 0.0, 0.0, 0.0, 0.0, 0.0, 0.0, 0.0, 0.0, 0.0, 0.0, 0.0, 0.0, 0.0, 0.0, 0.0, 0.0, 0.0, 0.0, 0.0, 0.0, 0.0, 0.0, 0.0, 0.0, 0.0, 0.0, 0.0, 0.0, 0.0, 0.0, 0.0, 0.0, 0.0, 0.0, 0.0, 0.0, 0.0, 0.0, 0.0, 0.0, 0.0, 0.0, 0.0, 0.0, 0.0, 0.0, 0.0, 0.0, 0.0, 0.0, 0.0, 0.0, 0.0, 0.0, 0.0, 0.0, 0.0, 0.0, 0.0, 0.0, 0.0, 0.0, 0.0, 0.0, 0.0, 0.0, 0.0, 0.0, 0.0, 0.0, 0.0, 0.0, 0.0, 0.0, 0.0, 0.0, 0.0, 0.0, 0.0, 0.0, 0.0, 0.0, 0.0, 0.0, 0.0, 0.0, 0.0, 0.0], [0.0, 0.0, 0.0, 0.0, 0.0, 0.0, 0.0, 0.0, 0.0, 0.0, 0.0, 0.0, 0.0, 0.0, 0.0, 0.0, 0.0, 0.0, 0.0, 0.0, 0.0, 0.0, 0.0, 0.0, 0.0, 0.0, 0.0, 0.0, 0.0, 0.0, 0.0, 0.0, 0.0, 0.0, 0.0, 0.0, 0.0, 0.0, 0.0, 0.0, 0.0, 0.0, 0.0, 0.0, 0.0, 0.0, 0.0, 0.0, 0.0, 0.0, 0.0, 0.0, 0.0, 0.0, 0.0, 0.0, 0.0, 0.0, 0.0, 0.0, 0.0, 0.0, 0.0, 0.0, 0.0, 0.0, 0.0, 0.0, 0.0, 0.0, 0.0, 0.0, 0.0, 0.0, 0.0, 0.0, 0.0, 0.0, 0.0, 0.0, 0.0, 0.0, 0.0, 0.0, 0.0, 0.0, 0.0, 0.0, 0.0, 0.0, 0.0, 0.0, 0.0, 0.0, 0.0, 0.0, 0.0, 0.0, 0.0, 0.0], [0.0, 0.0, 0.0, 0.0, 0.0, 0.0, 0.0, 0.0, 0.0, 0.0, 0.0, 0.0, 0.0, 0.0, 0.0, 0.0, 0.0, 0.0, 0.0, 0.0, 0.0, 0.0, 0.0, 0.0, 1.0, 0.0, 0.0, 0.0, 0.0, 0.0, 0.0, 0.0, 0.0, 0.0, 0.0, 0.0, 0.0, 0.0, 0.0, 0.0, 0.0, 0.0, 0.0, 0.0, 0.0, 0.0, 0.0, 0.0, 0.0, 0.0, 0.0, 0.0, 0.0, 0.0, 1.0, 0.0, 0.0, 0.0, 0.0, 0.0, 0.0, 0.0, 0.0, 0.0, 0.0, 0.0, 0.0, 0.0, 0.0, 0.0, 0.0, 0.0, 0.0, 0.0, 0.0, 0.0, 0.0, 0.0, 0.0, 0.0, 0.0, 0.0, 0.0, 0.0, 0.0, 0.0, 0.0, 0.0, 0.0, 0.0, 0.0, 0.0, 0.0, 0.0, 0.0, 0.0, 0.0, 0.0, 0.0, 0.0], [0.0, 0.0, 0.0, 0.0, 0.0, 0.0, 0.0, 0.0, 0.0, 0.0, 0.0, 0.0, 0.0, 0.0, 0.0, 0.0, 0.0, 0.0, 0.0, 0.0, 0.0, 0.0, 0.0, 0.0, 0.0, 0.0, 0.0, 0.0, 0.0, 0.0, 0.0, 0.0, 0.0, 0.0, 0.0, 0.0, 0.0, 0.0, 0.0, 0.0, 0.0, 0.0, 0.0, 0.0, 0.0, 0.0, 0.0, 0.0, 0.0, 0.0, 1.0, 0.0, 0.0, 0.0, 1.0, 0.0, 0.0, 0.0, 0.0, 0.0, 0.0, 0.0, 0.0, 0.0, 0.0, 0.0, 0.0, 0.0, 0.0, 0.0, 0.0, 0.0, 0.0, 0.0, 0.0, 0.0, 0.0, 0.0, 0.0, 0.0, 0.0, 0.0, 0.0, 0.0, 0.0, 0.0, 0.0, 0.0, 0.0, 0.0, 0.0, 0.0, 0.0, 0.0, 0.0, 0.0, 0.0, 0.0, 0.0, 0.0], [0.0, 0.0, 0.0, 0.0, 0.0, 0.0, 0.0, 0.0, 0.0, 0.0, 1.0, 0.0, 0.0, 0.0, 0.0, 0.0, 0.0, 0.0, 0.0, 0.0, 0.0, 0.0, 0.0, 0.0, 1.0, 0.0, 0.0, 0.0, 0.0, 0.0, 0.0, 0.0, 0.0, 0.0, 0.0, 0.0, 0.0, 0.0, 0.0, 0.0, 0.0, 0.0, 0.0, 0.0, 0.0, 0.0, 0.0, 0.0, 0.0, 0.0, 0.0, 0.0, 0.0, 0.0, 0.0, 0.0, 0.0, 1.0, 0.0, 0.0, 0.0, 1.0, 0.0, 0.0, 0.0, 0.0, 0.0, 0.0, 0.0, 0.0, 0.0, 0.0, 0.0, 0.0, 0.0, 0.0, 0.0, 0.0, 0.0, 0.0, 0.0, 0.0, 0.0, 0.0, 0.0, 0.0, 0.0, 0.0, 0.0, 0.0, 0.0, 0.0, 0.0, 0.0, 0.0, 0.0, 0.0, 0.0, 0.0, 0.0], [0.0, 0.0, 0.0, 0.0, 0.0, 0.0, 0.0, 0.0, 0.0, 0.0, 0.0, 0.0, 0.0, 0.0, 0.0, 0.0, 0.0, 0.0, 0.0, 0.0, 0.0, 0.0, 0.0, 0.0, 1.0, 0.0, 0.0, 0.0, 0.0, 0.0, 0.0, 0.0, 0.0, 0.0, 0.0, 0.0, 0.0, 0.0, 0.0, 0.0, 0.0, 0.0, 0.0, 0.0, 0.0, 0.0, 0.0, 0.0, 0.0, 0.0, 0.0, 0.0, 0.0, 0.0, 0.0, 0.0, 0.0, 0.0, 0.0, 0.0, 0.0, 0.0, 0.0, 0.0, 0.0, 0.0, 0.0, 0.0, 0.0, 0.0, 0.0, 0.0, 0.0, 0.0, 0.0, 0.0, 0.0, 0.0, 0.0, 0.0, 0.0, 0.0, 0.0, 0.0, 0.0, 0.0, 0.0, 0.0, 0.0, 0.0, 0.0, 0.0, 0.0, 0.0, 0.0, 0.0, 0.0, 0.0, 0.0, 0.0], [0.0, 0.0, 0.0, 0.0, 0.0, 0.0, 0.0, 0.0, 0.0, 0.0, 0.0, 0.0, 0.0, 0.0, 0.0, 0.0, 0.0, 0.0, 0.0, 1.0, 0.0, 0.0, 0.0, 0.0, 0.0, 0.0, 0.0, 0.0, 0.0, 0.0, 0.0, 0.0, 0.0, 0.0, 0.0, 0.0, 0.0, 0.0, 0.0, 0.0, 0.0, 0.0, 0.0, 0.0, 0.0, 0.0, 0.0, 0.0, 0.0, 0.0, 0.0, 0.0, 0.0, 0.0, 1.0, 0.0, 0.0, 0.0, 0.0, 0.0, 0.0, 0.0, 0.0, 0.0, 0.0, 0.0, 0.0, 0.0, 0.0, 0.0, 1.0, 0.0, 0.0, 0.0, 0.0, 0.0, 0.0, 0.0, 0.0, 0.0, 0.0, 0.0, 0.0, 0.0, 0.0, 0.0, 0.0, 0.0, 0.0, 0.0, 0.0, 0.0, 0.0, 0.0, 0.0, 0.0, 0.0, 0.0, 0.0, 0.0], [0.0, 0.0, 0.0, 0.0, 0.0, 0.0, 0.0, 0.0, 0.0, 0.0, 0.0, 0.0, 0.0, 0.0, 0.0, 0.0, 0.0, 0.0, 0.0, 0.0, 0.0, 0.0, 0.0, 0.0, 0.0, 0.0, 0.0, 0.0, 0.0, 0.0, 0.0, 0.0, 0.0, 0.0, 0.0, 0.0, 0.0, 0.0, 0.0, 0.0, 0.0, 0.0, 0.0, 0.0, 0.0, 0.0, 0.0, 0.0, 0.0, 0.0, 0.0, 0.0, 0.0, 0.0, 0.0, 0.0, 0.0, 0.0, 0.0, 0.0, 0.0, 1.0, 0.0, 0.0, 0.0, 0.0, 0.0, 0.0, 0.0, 0.0, 0.0, 0.0, 0.0, 0.0, 0.0, 0.0, 0.0, 0.0, 0.0, 0.0, 0.0, 0.0, 0.0, 0.0, 0.0, 0.0, 0.0, 0.0, 0.0, 0.0, 0.0, 0.0, 0.0, 0.0, 0.0, 0.0, 0.0, 0.0, 0.0, 0.0], [0.0, 0.0, 0.0, 0.0, 0.0, 0.0, 0.0, 0.0, 0.0, 0.0, 0.0, 0.0, 0.0, 0.0, 0.0, 0.0, 0.0, 0.0, 0.0, 1.0, 0.0, 0.0, 0.0, 0.0, 0.0, 0.0, 0.0, 0.0, 0.0, 0.0, 0.0, 0.0, 0.0, 0.0, 0.0, 0.0, 0.0, 1.0, 0.0, 0.0, 0.0, 1.0, 0.0, 0.0, 0.0, 0.0, 0.0, 0.0, 0.0, 0.0, 0.0, 0.0, 0.0, 0.0, 0.0, 0.0, 0.0, 0.0, 0.0, 0.0, 0.0, 0.0, 0.0, 0.0, 0.0, 0.0, 0.0, 0.0, 0.0, 0.0, 0.0, 0.0, 0.0, 0.0, 0.0, 0.0, 0.0, 0.0, 0.0, 0.0, 0.0, 0.0, 0.0, 0.0, 0.0, 0.0, 0.0, 0.0, 0.0, 0.0, 0.0, 0.0, 0.0, 0.0, 0.0, 0.0, 0.0, 0.0, 0.0, 0.0], [0.0, 0.0, 0.0, 0.0, 0.0, 0.0, 0.0, 0.0, 0.0, 0.0, 0.0, 0.0, 0.0, 0.0, 0.0, 0.0, 0.0, 0.0, 0.0, 0.0, 0.0, 0.0, 0.0, 0.0, 0.0, 0.0, 0.0, 0.0, 0.0, 0.0, 0.0, 0.0, 0.0, 0.0, 0.0, 0.0, 0.0, 0.0, 0.0, 0.0, 0.0, 0.0, 0.0, 0.0, 0.0, 0.0, 0.0, 0.0, 0.0, 0.0, 0.0, 0.0, 0.0, 0.0, 0.0, 0.0, 0.0, 0.0, 0.0, 0.0, 0.0, 1.0, 0.0, 0.0, 0.0, 0.0, 0.0, 0.0, 0.0, 0.0, 0.0, 0.0, 0.0, 0.0, 0.0, 0.0, 0.0, 0.0, 0.0, 0.0, 0.0, 0.0, 0.0, 0.0, 0.0, 0.0, 0.0, 0.0, 0.0, 0.0, 0.0, 0.0, 0.0, 0.0, 0.0, 0.0, 0.0, 0.0, 0.0, 0.0], [0.0, 0.0, 0.0, 0.0, 0.0, 0.0, 0.0, 0.0, 0.0, 0.0, 0.0, 0.0, 0.0, 0.0, 0.0, 0.0, 0.0, 0.0, 0.0, 0.0, 0.0, 0.0, 0.0, 0.0, 1.0, 0.0, 0.0, 0.0, 0.0, 0.0, 0.0, 0.0, 0.0, 0.0, 0.0, 0.0, 0.0, 0.0, 0.0, 0.0, 0.0, 0.0, 0.0, 0.0, 0.0, 0.0, 0.0, 0.0, 0.0, 0.0, 0.0, 0.0, 0.0, 0.0, 0.0, 0.0, 0.0, 0.0, 0.0, 0.0, 0.0, 0.0, 0.0, 0.0, 0.0, 0.0, 0.0, 0.0, 0.0, 0.0, 0.0, 0.0, 0.0, 0.0, 0.0, 0.0, 0.0, 0.0, 0.0, 0.0, 0.0, 0.0, 0.0, 0.0, 0.0, 0.0, 0.0, 0.0, 0.0, 0.0, 0.0, 0.0, 0.0, 0.0, 0.0, 0.0, 0.0, 0.0, 0.0, 0.0], [0.0, 0.0, 0.0, 0.0, 0.0, 0.0, 0.0, 0.0, 0.0, 0.0, 0.0, 0.0, 0.0, 0.0, 0.0, 0.0, 0.0, 0.0, 0.0, 0.0, 0.0, 0.0, 0.0, 0.0, 0.0, 0.0, 0.0, 0.0, 0.0, 0.0, 0.0, 0.0, 0.0, 0.0, 0.0, 0.0, 0.0, 0.0, 0.0, 0.0, 0.0, 0.0, 0.0, 0.0, 0.0, 0.0, 0.0, 0.0, 0.0, 0.0, 0.0, 0.0, 0.0, 0.0, 0.0, 0.0, 0.0, 0.0, 0.0, 0.0, 0.0, 0.0, 0.0, 0.0, 0.0, 0.0, 0.0, 0.0, 0.0, 0.0, 0.0, 0.0, 0.0, 0.0, 0.0, 0.0, 0.0, 0.0, 0.0, 0.0, 0.0, 0.0, 0.0, 0.0, 0.0, 0.0, 0.0, 0.0, 0.0, 0.0, 0.0, 0.0, 0.0, 0.0, 0.0, 0.0, 0.0, 0.0, 0.0, 0.0], [1.0, 0.0, 0.0, 0.0, 0.0, 0.0, 0.0, 0.0, 0.0, 0.0, 0.0, 0.0, 0.0, 0.0, 0.0, 0.0, 0.0, 0.0, 0.0, 0.0, 0.0, 0.0, 0.0, 0.0, 0.0, 0.0, 0.0, 0.0, 0.0, 0.0, 0.0, 0.0, 0.0, 0.0, 0.0, 0.0, 0.0, 0.0, 0.0, 0.0, 0.0, 0.0, 0.0, 0.0, 0.0, 0.0, 0.0, 0.0, 0.0, 0.0, 0.0, 0.0, 0.0, 0.0, 0.0, 0.0, 0.0, 0.0, 0.0, 0.0, 0.0, 0.0, 0.0, 0.0, 0.0, 0.0, 0.0, 0.0, 0.0, 0.0, 0.0, 0.0, 0.0, 0.0, 0.0, 0.0, 0.0, 0.0, 0.0, 0.0, 0.0, 0.0, 0.0, 0.0, 0.0, 0.0, 0.0, 0.0, 0.0, 0.0, 0.0, 0.0, 0.0, 0.0, 0.0, 0.0, 0.0, 0.0, 0.0, 0.0], [0.0, 0.0, 0.0, 0.0, 0.0, 0.0, 0.0, 0.0, 0.0, 0.0, 0.0, 0.0, 0.0, 0.0, 0.0, 0.0, 0.0, 0.0, 0.0, 0.0, 0.0, 0.0, 0.0, 0.0, 0.0, 0.0, 0.0, 0.0, 0.0, 0.0, 0.0, 0.0, 0.0, 0.0, 0.0, 0.0, 0.0, 0.0, 0.0, 0.0, 0.0, 0.0, 0.0, 0.0, 0.0, 0.0, 0.0, 0.0, 0.0, 0.0, 0.0, 0.0, 0.0, 0.0, 0.0, 0.0, 0.0, 0.0, 0.0, 0.0, 0.0, 0.0, 0.0, 0.0, 0.0, 0.0, 0.0, 0.0, 0.0, 0.0, 0.0, 0.0, 0.0, 0.0, 0.0, 0.0, 0.0, 0.0, 0.0, 0.0, 0.0, 0.0, 0.0, 0.0, 0.0, 0.0, 0.0, 0.0, 0.0, 0.0, 0.0, 0.0, 0.0, 0.0, 0.0, 0.0, 0.0, 0.0, 0.0, 0.0], [0.0, 0.0, 0.0, 0.0, 0.0, 0.0, 0.0, 0.0, 0.0, 0.0, 0.0, 0.0, 0.0, 0.0, 0.0, 0.0, 0.0, 0.0, 0.0, 0.0, 0.0, 0.0, 0.0, 0.0, 0.0, 0.0, 0.0, 0.0, 0.0, 0.0, 0.0, 0.0, 0.0, 0.0, 0.0, 0.0, 0.0, 0.0, 0.0, 0.0, 0.0, 0.0, 0.0, 0.0, 0.0, 0.0, 0.0, 0.0, 0.0, 0.0, 0.0, 0.0, 0.0, 0.0, 0.0, 0.0, 0.0, 0.0, 0.0, 0.0, 0.0, 0.0, 0.0, 0.0, 0.0, 0.0, 0.0, 0.0, 0.0, 0.0, 0.0, 0.0, 0.0, 0.0, 0.0, 0.0, 0.0, 0.0, 0.0, 0.0, 0.0, 0.0, 0.0, 0.0, 0.0, 0.0, 0.0, 0.0, 0.0, 0.0, 0.0, 0.0, 0.0, 0.0, 0.0, 0.0, 0.0, 0.0, 0.0, 0.0], [1.0, 0.0, 0.0, 0.0, 0.0, 0.0, 0.0, 0.0, 0.0, 0.0, 0.0, 0.0, 0.0, 0.0, 0.0, 0.0, 0.0, 0.0, 0.0, 0.0, 0.0, 0.0, 0.0, 0.0, 0.0, 0.0, 0.0, 0.0, 0.0, 0.0, 0.0, 0.0, 0.0, 0.0, 0.0, 0.0, 1.0, 0.0, 0.0, 0.0, 0.0, 0.0, 0.0, 0.0, 0.0, 0.0, 0.0, 0.0, 0.0, 0.0, 0.0, 0.0, 0.0, 0.0, 0.0, 0.0, 0.0, 0.0, 0.0, 0.0, 0.0, 0.0, 0.0, 0.0, 0.0, 0.0, 0.0, 0.0, 0.0, 0.0, 0.0, 0.0, 0.0, 0.0, 0.0, 0.0, 0.0, 0.0, 0.0, 0.0, 0.0, 0.0, 0.0, 0.0, 0.0, 0.0, 0.0, 0.0, 0.0, 0.0, 0.0, 0.0, 0.0, 0.0, 0.0, 0.0, 0.0, 0.0, 1.0, 0.0], [0.0, 0.0, 0.0, 0.0, 1.0, 0.0, 0.0, 0.0, 0.0, 0.0, 0.0, 0.0, 0.0, 0.0, 0.0, 0.0, 0.0, 0.0, 0.0, 0.0, 0.0, 0.0, 0.0, 0.0, 0.0, 0.0, 0.0, 0.0, 0.0, 0.0, 0.0, 0.0, 0.0, 0.0, 0.0, 0.0, 0.0, 0.0, 0.0, 0.0, 0.0, 0.0, 0.0, 0.0, 0.0, 0.0, 0.0, 0.0, 0.0, 0.0, 0.0, 0.0, 0.0, 0.0, 0.0, 0.0, 0.0, 0.0, 0.0, 0.0, 0.0, 0.0, 0.0, 0.0, 0.0, 0.0, 0.0, 0.0, 0.0, 0.0, 0.0, 0.0, 0.0, 0.0, 0.0, 0.0, 0.0, 0.0, 0.0, 0.0, 0.0, 0.0, 0.0, 0.0, 0.0, 0.0, 0.0, 0.0, 0.0, 0.0, 0.0, 0.0, 0.0, 0.0, 0.0, 0.0, 0.0, 0.0, 0.0, 0.0], [0.0, 0.0, 0.0, 0.0, 0.0, 0.0, 0.0, 0.0, 0.0, 0.0, 0.0, 0.0, 0.0, 0.0, 0.0, 0.0, 0.0, 0.0, 0.0, 0.0, 0.0, 0.0, 0.0, 0.0, 0.0, 0.0, 0.0, 0.0, 0.0, 0.0, 0.0, 0.0, 0.0, 0.0, 0.0, 0.0, 0.0, 0.0, 0.0, 0.0, 0.0, 0.0, 0.0, 0.0, 0.0, 0.0, 0.0, 0.0, 0.0, 0.0, 0.0, 0.0, 0.0, 0.0, 0.0, 0.0, 0.0, 0.0, 0.0, 0.0, 0.0, 0.0, 0.0, 0.0, 0.0, 0.0, 0.0, 0.0, 0.0, 0.0, 0.0, 0.0, 0.0, 0.0, 0.0, 0.0, 0.0, 0.0, 0.0, 0.0, 0.0, 0.0, 0.0, 0.0, 0.0, 0.0, 0.0, 0.0, 0.0, 0.0, 0.0, 0.0, 0.0, 0.0, 0.0, 0.0, 0.0, 0.0, 0.0, 0.0], [0.0, 0.0, 0.0, 0.0, 1.0, 0.0, 0.0, 0.0, 0.0, 0.0, 1.0, 0.0, 1.0, 0.0, 1.0, 1.0, 0.0, 1.0, 1.0, 0.0, 1.0, 0.0, 1.0, 0.0, 0.0, 0.0, 1.0, 0.0, 0.0, 0.0, 1.0, 0.0, 0.0, 0.0, 0.0, 1.0, 0.0, 0.0, 1.0, 0.0, 0.0, 0.0, 0.0, 0.0, 1.0, 0.0, 0.0, 1.0, 0.0, 1.0, 1.0, 0.0, 1.0, 0.0, 1.0, 0.0, 0.0, 1.0, 0.0, 0.0, 0.0, 0.0, 0.0, 0.0, 1.0, 0.0, 0.0, 0.0, 0.0, 0.0, 1.0, 0.0, 1.0, 0.0, 0.0, 0.0, 0.0, 0.0, 0.0, 0.0, 1.0, 1.0, 0.0, 0.0, 0.0, 1.0, 0.0, 0.0, 1.0, 0.0, 0.0, 0.0, 0.0, 0.0, 1.0, 0.0, 0.0, 0.0, 0.0, 1.0], [0.0, 0.0, 0.0, 0.0, 0.0, 0.0, 0.0, 0.0, 0.0, 0.0, 0.0, 0.0, 0.0, 0.0, 0.0, 0.0, 0.0, 0.0, 0.0, 0.0, 0.0, 0.0, 0.0, 0.0, 0.0, 0.0, 0.0, 0.0, 0.0, 0.0, 0.0, 0.0, 0.0, 0.0, 0.0, 0.0, 0.0, 0.0, 0.0, 0.0, 0.0, 0.0, 0.0, 0.0, 0.0, 0.0, 0.0, 0.0, 0.0, 0.0, 0.0, 0.0, 0.0, 0.0, 0.0, 0.0, 0.0, 0.0, 0.0, 0.0, 0.0, 0.0, 0.0, 0.0, 0.0, 0.0, 0.0, 0.0, 0.0, 0.0, 0.0, 0.0, 0.0, 0.0, 0.0, 0.0, 0.0, 0.0, 0.0, 0.0, 0.0, 0.0, 0.0, 0.0, 0.0, 0.0, 0.0, 0.0, 0.0, 0.0, 0.0, 0.0, 0.0, 0.0, 0.0, 0.0, 0.0, 0.0, 0.0, 0.0], [0.0, 0.0, 0.0, 0.0, 0.0, 0.0, 0.0, 0.0, 0.0, 0.0, 0.0, 0.0, 0.0, 0.0, 0.0, 0.0, 0.0, 0.0, 0.0, 0.0, 0.0, 0.0, 0.0, 0.0, 0.0, 0.0, 0.0, 0.0, 0.0, 0.0, 0.0, 0.0, 0.0, 0.0, 0.0, 0.0, 0.0, 0.0, 0.0, 0.0, 0.0, 0.0, 0.0, 0.0, 0.0, 0.0, 0.0, 0.0, 0.0, 0.0, 0.0, 0.0, 0.0, 0.0, 0.0, 0.0, 0.0, 0.0, 0.0, 0.0, 0.0, 0.0, 0.0, 0.0, 0.0, 0.0, 0.0, 0.0, 0.0, 0.0, 0.0, 0.0, 0.0, 0.0, 0.0, 0.0, 0.0, 0.0, 0.0, 0.0, 0.0, 0.0, 0.0, 0.0, 0.0, 0.0, 0.0, 0.0, 0.0, 0.0, 0.0, 0.0, 0.0, 0.0, 0.0, 0.0, 0.0, 0.0, 0.0, 0.0], [0.0, 0.0, 0.0, 0.0, 0.0, 0.0, 0.0, 0.0, 0.0, 0.0, 0.0, 0.0, 0.0, 0.0, 0.0, 0.0, 0.0, 0.0, 0.0, 0.0, 0.0, 0.0, 0.0, 0.0, 1.0, 0.0, 0.0, 0.0, 0.0, 0.0, 0.0, 0.0, 0.0, 0.0, 0.0, 0.0, 0.0, 0.0, 0.0, 0.0, 0.0, 0.0, 0.0, 0.0, 0.0, 0.0, 0.0, 0.0, 0.0, 0.0, 0.0, 0.0, 0.0, 0.0, 0.0, 0.0, 0.0, 0.0, 0.0, 0.0, 0.0, 0.0, 0.0, 0.0, 0.0, 0.0, 0.0, 0.0, 0.0, 0.0, 0.0, 0.0, 0.0, 0.0, 0.0, 0.0, 0.0, 0.0, 0.0, 0.0, 0.0, 0.0, 0.0, 0.0, 0.0, 0.0, 0.0, 0.0, 0.0, 0.0, 0.0, 0.0, 0.0, 0.0, 0.0, 0.0, 0.0, 0.0, 0.0, 0.0], [1.0, 0.0, 0.0, 0.0, 0.0, 0.0, 0.0, 0.0, 0.0, 0.0, 0.0, 0.0, 0.0, 0.0, 0.0, 0.0, 0.0, 0.0, 0.0, 0.0, 0.0, 0.0, 0.0, 0.0, 0.0, 0.0, 0.0, 0.0, 0.0, 0.0, 0.0, 0.0, 0.0, 0.0, 0.0, 0.0, 0.0, 0.0, 0.0, 0.0, 0.0, 0.0, 0.0, 0.0, 0.0, 0.0, 0.0, 0.0, 0.0, 0.0, 1.0, 0.0, 0.0, 0.0, 0.0, 0.0, 0.0, 0.0, 0.0, 0.0, 0.0, 0.0, 0.0, 0.0, 0.0, 0.0, 0.0, 0.0, 0.0, 0.0, 0.0, 0.0, 0.0, 0.0, 0.0, 0.0, 0.0, 0.0, 0.0, 0.0, 0.0, 0.0, 0.0, 0.0, 0.0, 0.0, 0.0, 0.0, 0.0, 0.0, 0.0, 0.0, 0.0, 0.0, 0.0, 0.0, 0.0, 0.0, 0.0, 0.0], [1.0, 0.0, 0.0, 0.0, 0.0, 0.0, 0.0, 0.0, 0.0, 0.0, 0.0, 0.0, 0.0, 0.0, 0.0, 0.0, 0.0, 0.0, 0.0, 0.0, 0.0, 0.0, 0.0, 0.0, 0.0, 0.0, 0.0, 0.0, 0.0, 0.0, 0.0, 0.0, 0.0, 0.0, 0.0, 0.0, 0.0, 0.0, 0.0, 0.0, 0.0, 0.0, 0.0, 0.0, 0.0, 0.0, 0.0, 0.0, 0.0, 0.0, 0.0, 0.0, 0.0, 0.0, 0.0, 0.0, 0.0, 0.0, 0.0, 0.0, 0.0, 0.0, 0.0, 0.0, 0.0, 0.0, 0.0, 0.0, 0.0, 0.0, 0.0, 0.0, 0.0, 0.0, 0.0, 0.0, 0.0, 0.0, 0.0, 0.0, 0.0, 0.0, 0.0, 0.0, 0.0, 0.0, 0.0, 0.0, 0.0, 0.0, 0.0, 0.0, 0.0, 0.0, 0.0, 0.0, 0.0, 0.0, 0.0, 0.0], [0.0, 0.0, 0.0, 0.0, 0.0, 0.0, 0.0, 0.0, 0.0, 0.0, 0.0, 0.0, 0.0, 0.0, 0.0, 0.0, 0.0, 0.0, 0.0, 0.0, 0.0, 0.0, 0.0, 0.0, 0.0, 0.0, 0.0, 0.0, 0.0, 0.0, 0.0, 0.0, 0.0, 0.0, 1.0, 0.0, 0.0, 0.0, 0.0, 0.0, 0.0, 0.0, 0.0, 0.0, 0.0, 0.0, 0.0, 0.0, 0.0, 0.0, 0.0, 0.0, 0.0, 0.0, 0.0, 0.0, 0.0, 0.0, 0.0, 0.0, 0.0, 0.0, 0.0, 0.0, 0.0, 0.0, 0.0, 0.0, 0.0, 0.0, 0.0, 0.0, 0.0, 0.0, 0.0, 0.0, 1.0, 0.0, 0.0, 0.0, 0.0, 0.0, 0.0, 0.0, 0.0, 0.0, 0.0, 0.0, 0.0, 0.0, 0.0, 0.0, 0.0, 0.0, 0.0, 0.0, 0.0, 0.0, 0.0, 0.0], [0.0, 0.0, 0.0, 0.0, 0.0, 0.0, 0.0, 0.0, 0.0, 0.0, 0.0, 0.0, 0.0, 0.0, 0.0, 0.0, 0.0, 0.0, 0.0, 0.0, 0.0, 0.0, 0.0, 0.0, 1.0, 0.0, 0.0, 0.0, 0.0, 0.0, 0.0, 0.0, 0.0, 0.0, 0.0, 0.0, 0.0, 0.0, 0.0, 0.0, 0.0, 0.0, 0.0, 0.0, 0.0, 0.0, 0.0, 0.0, 0.0, 0.0, 0.0, 0.0, 0.0, 0.0, 0.0, 0.0, 0.0, 0.0, 0.0, 0.0, 0.0, 0.0, 0.0, 0.0, 0.0, 0.0, 0.0, 0.0, 0.0, 0.0, 0.0, 0.0, 0.0, 0.0, 0.0, 0.0, 0.0, 0.0, 0.0, 0.0, 0.0, 0.0, 0.0, 0.0, 0.0, 0.0, 0.0, 0.0, 0.0, 0.0, 0.0, 0.0, 0.0, 0.0, 0.0, 0.0, 0.0, 0.0, 0.0, 0.0], [0.0, 0.0, 0.0, 0.0, 0.0, 0.0, 0.0, 0.0, 0.0, 0.0, 0.0, 0.0, 0.0, 0.0, 0.0, 0.0, 0.0, 0.0, 0.0, 0.0, 0.0, 0.0, 0.0, 0.0, 0.0, 0.0, 0.0, 0.0, 0.0, 0.0, 0.0, 0.0, 0.0, 0.0, 0.0, 0.0, 0.0, 0.0, 0.0, 0.0, 0.0, 0.0, 0.0, 0.0, 0.0, 0.0, 0.0, 0.0, 0.0, 0.0, 0.0, 0.0, 0.0, 0.0, 0.0, 0.0, 0.0, 0.0, 0.0, 0.0, 0.0, 0.0, 0.0, 0.0, 0.0, 0.0, 0.0, 0.0, 0.0, 0.0, 0.0, 0.0, 0.0, 0.0, 0.0, 0.0, 0.0, 0.0, 0.0, 0.0, 0.0, 0.0, 0.0, 0.0, 0.0, 0.0, 0.0, 0.0, 0.0, 0.0, 0.0, 0.0, 0.0, 0.0, 0.0, 0.0, 0.0, 0.0, 0.0, 0.0], [0.0, 0.0, 0.0, 0.0, 1.0, 0.0, 0.0, 0.0, 0.0, 0.0, 0.0, 0.0, 0.0, 0.0, 0.0, 0.0, 0.0, 0.0, 0.0, 0.0, 0.0, 0.0, 0.0, 0.0, 0.0, 0.0, 0.0, 0.0, 0.0, 0.0, 0.0, 0.0, 0.0, 0.0, 0.0, 0.0, 0.0, 0.0, 0.0, 0.0, 0.0, 0.0, 0.0, 0.0, 0.0, 0.0, 0.0, 0.0, 0.0, 1.0, 1.0, 1.0, 0.0, 0.0, 0.0, 0.0, 0.0, 0.0, 0.0, 0.0, 0.0, 0.0, 0.0, 0.0, 0.0, 0.0, 0.0, 1.0, 0.0, 0.0, 1.0, 0.0, 0.0, 0.0, 0.0, 0.0, 0.0, 0.0, 0.0, 0.0, 0.0, 0.0, 0.0, 0.0, 0.0, 0.0, 0.0, 0.0, 0.0, 0.0, 0.0, 0.0, 0.0, 0.0, 0.0, 0.0, 0.0, 0.0, 0.0, 0.0], [0.0, 0.0, 0.0, 0.0, 0.0, 0.0, 0.0, 0.0, 0.0, 0.0, 0.0, 0.0, 1.0, 0.0, 0.0, 0.0, 0.0, 0.0, 0.0, 0.0, 0.0, 0.0, 0.0, 0.0, 0.0, 0.0, 0.0, 0.0, 0.0, 0.0, 0.0, 0.0, 0.0, 0.0, 0.0, 0.0, 0.0, 0.0, 0.0, 0.0, 0.0, 0.0, 0.0, 0.0, 0.0, 0.0, 0.0, 0.0, 0.0, 0.0, 0.0, 0.0, 0.0, 0.0, 0.0, 0.0, 0.0, 0.0, 0.0, 0.0, 0.0, 0.0, 0.0, 0.0, 0.0, 0.0, 0.0, 0.0, 0.0, 0.0, 0.0, 0.0, 0.0, 0.0, 0.0, 0.0, 0.0, 0.0, 0.0, 0.0, 0.0, 0.0, 0.0, 0.0, 0.0, 0.0, 0.0, 0.0, 0.0, 0.0, 0.0, 0.0, 0.0, 0.0, 0.0, 0.0, 0.0, 0.0, 0.0, 0.0], [0.0, 0.0, 0.0, 0.0, 0.0, 0.0, 0.0, 0.0, 0.0, 0.0, 0.0, 0.0, 1.0, 0.0, 0.0, 0.0, 0.0, 0.0, 0.0, 0.0, 0.0, 0.0, 0.0, 0.0, 0.0, 0.0, 0.0, 0.0, 0.0, 1.0, 0.0, 0.0, 0.0, 0.0, 0.0, 0.0, 0.0, 0.0, 0.0, 0.0, 0.0, 0.0, 0.0, 0.0, 0.0, 1.0, 0.0, 0.0, 0.0, 0.0, 0.0, 1.0, 0.0, 0.0, 0.0, 0.0, 0.0, 0.0, 0.0, 0.0, 0.0, 0.0, 0.0, 0.0, 0.0, 0.0, 0.0, 0.0, 0.0, 0.0, 0.0, 0.0, 0.0, 1.0, 0.0, 0.0, 0.0, 0.0, 0.0, 0.0, 0.0, 0.0, 0.0, 0.0, 0.0, 0.0, 0.0, 0.0, 0.0, 0.0, 0.0, 0.0, 0.0, 0.0, 0.0, 0.0, 0.0, 0.0, 0.0, 0.0], [0.0, 0.0, 0.0, 0.0, 1.0, 0.0, 0.0, 0.0, 0.0, 0.0, 0.0, 0.0, 0.0, 0.0, 0.0, 0.0, 0.0, 1.0, 0.0, 1.0, 0.0, 0.0, 0.0, 0.0, 0.0, 0.0, 0.0, 1.0, 0.0, 0.0, 0.0, 0.0, 0.0, 0.0, 0.0, 0.0, 0.0, 0.0, 0.0, 1.0, 0.0, 0.0, 0.0, 0.0, 0.0, 0.0, 0.0, 0.0, 0.0, 0.0, 0.0, 0.0, 0.0, 0.0, 1.0, 0.0, 0.0, 0.0, 0.0, 0.0, 0.0, 1.0, 0.0, 0.0, 0.0, 0.0, 0.0, 0.0, 0.0, 0.0, 0.0, 0.0, 1.0, 1.0, 0.0, 0.0, 0.0, 0.0, 0.0, 0.0, 0.0, 0.0, 0.0, 0.0, 0.0, 0.0, 0.0, 0.0, 0.0, 0.0, 0.0, 0.0, 0.0, 0.0, 0.0, 0.0, 0.0, 0.0, 0.0, 0.0], [0.0, 0.0, 0.0, 0.0, 0.0, 0.0, 0.0, 0.0, 0.0, 0.0, 0.0, 0.0, 0.0, 0.0, 0.0, 0.0, 0.0, 0.0, 0.0, 0.0, 0.0, 0.0, 0.0, 0.0, 1.0, 0.0, 0.0, 0.0, 0.0, 0.0, 0.0, 0.0, 0.0, 0.0, 0.0, 0.0, 0.0, 0.0, 0.0, 0.0, 0.0, 0.0, 0.0, 0.0, 0.0, 0.0, 0.0, 0.0, 0.0, 0.0, 0.0, 0.0, 0.0, 0.0, 0.0, 0.0, 0.0, 0.0, 0.0, 0.0, 0.0, 0.0, 0.0, 0.0, 0.0, 0.0, 0.0, 0.0, 0.0, 0.0, 0.0, 0.0, 0.0, 0.0, 0.0, 0.0, 0.0, 0.0, 0.0, 0.0, 0.0, 0.0, 0.0, 0.0, 0.0, 0.0, 0.0, 0.0, 0.0, 0.0, 0.0, 0.0, 0.0, 0.0, 0.0, 0.0, 0.0, 0.0, 0.0, 0.0], [0.0, 0.0, 0.0, 0.0, 0.0, 0.0, 0.0, 0.0, 0.0, 0.0, 0.0, 0.0, 0.0, 0.0, 0.0, 0.0, 0.0, 0.0, 0.0, 0.0, 0.0, 0.0, 0.0, 0.0, 0.0, 0.0, 0.0, 0.0, 0.0, 0.0, 0.0, 0.0, 0.0, 0.0, 0.0, 0.0, 0.0, 0.0, 0.0, 0.0, 0.0, 0.0, 0.0, 0.0, 0.0, 0.0, 0.0, 0.0, 0.0, 0.0, 0.0, 0.0, 0.0, 0.0, 0.0, 0.0, 0.0, 0.0, 0.0, 0.0, 0.0, 0.0, 0.0, 0.0, 0.0, 0.0, 0.0, 0.0, 0.0, 0.0, 0.0, 0.0, 0.0, 0.0, 0.0, 0.0, 0.0, 0.0, 0.0, 0.0, 0.0, 0.0, 0.0, 0.0, 0.0, 0.0, 0.0, 0.0, 0.0, 0.0, 0.0, 0.0, 0.0, 0.0, 0.0, 0.0, 0.0, 0.0, 0.0, 0.0], [0.0, 0.0, 0.0, 0.0, 0.0, 0.0, 0.0, 0.0, 0.0, 0.0, 0.0, 0.0, 0.0, 0.0, 0.0, 0.0, 0.0, 0.0, 0.0, 0.0, 0.0, 0.0, 0.0, 0.0, 1.0, 0.0, 0.0, 0.0, 0.0, 0.0, 0.0, 0.0, 0.0, 0.0, 0.0, 0.0, 0.0, 0.0, 0.0, 0.0, 0.0, 1.0, 0.0, 0.0, 0.0, 0.0, 0.0, 0.0, 0.0, 0.0, 0.0, 0.0, 0.0, 0.0, 0.0, 0.0, 0.0, 0.0, 0.0, 0.0, 0.0, 1.0, 0.0, 0.0, 0.0, 0.0, 0.0, 0.0, 0.0, 0.0, 0.0, 0.0, 0.0, 0.0, 0.0, 0.0, 0.0, 0.0, 0.0, 0.0, 0.0, 0.0, 0.0, 0.0, 0.0, 0.0, 0.0, 0.0, 0.0, 0.0, 0.0, 0.0, 0.0, 0.0, 0.0, 0.0, 0.0, 0.0, 0.0, 0.0], [0.0, 0.0, 0.0, 0.0, 0.0, 0.0, 0.0, 0.0, 0.0, 0.0, 0.0, 0.0, 0.0, 0.0, 0.0, 0.0, 0.0, 0.0, 0.0, 0.0, 0.0, 0.0, 1.0, 0.0, 1.0, 0.0, 0.0, 0.0, 0.0, 0.0, 0.0, 0.0, 0.0, 0.0, 0.0, 0.0, 0.0, 0.0, 0.0, 0.0, 0.0, 0.0, 0.0, 0.0, 0.0, 0.0, 0.0, 0.0, 0.0, 1.0, 0.0, 0.0, 0.0, 0.0, 1.0, 0.0, 0.0, 0.0, 0.0, 0.0, 0.0, 0.0, 0.0, 0.0, 0.0, 0.0, 0.0, 0.0, 0.0, 0.0, 0.0, 0.0, 0.0, 0.0, 0.0, 0.0, 1.0, 0.0, 0.0, 0.0, 0.0, 0.0, 0.0, 1.0, 0.0, 0.0, 0.0, 0.0, 0.0, 0.0, 0.0, 0.0, 0.0, 0.0, 0.0, 0.0, 0.0, 0.0, 0.0, 0.0], [0.0, 0.0, 0.0, 0.0, 0.0, 0.0, 0.0, 0.0, 0.0, 0.0, 0.0, 0.0, 0.0, 0.0, 0.0, 0.0, 0.0, 0.0, 0.0, 0.0, 0.0, 0.0, 0.0, 0.0, 0.0, 0.0, 0.0, 0.0, 0.0, 0.0, 0.0, 0.0, 0.0, 0.0, 0.0, 0.0, 0.0, 0.0, 0.0, 0.0, 0.0, 0.0, 0.0, 0.0, 0.0, 0.0, 0.0, 0.0, 0.0, 0.0, 1.0, 1.0, 0.0, 0.0, 0.0, 0.0, 0.0, 0.0, 0.0, 0.0, 0.0, 0.0, 0.0, 0.0, 0.0, 0.0, 0.0, 0.0, 0.0, 0.0, 0.0, 0.0, 0.0, 0.0, 0.0, 0.0, 0.0, 0.0, 0.0, 0.0, 0.0, 0.0, 0.0, 0.0, 0.0, 0.0, 0.0, 0.0, 0.0, 0.0, 0.0, 0.0, 0.0, 0.0, 0.0, 0.0, 0.0, 0.0, 0.0, 0.0], [0.0, 0.0, 0.0, 0.0, 0.0, 0.0, 0.0, 0.0, 0.0, 0.0, 0.0, 0.0, 0.0, 0.0, 0.0, 0.0, 0.0, 0.0, 0.0, 0.0, 0.0, 0.0, 0.0, 0.0, 0.0, 0.0, 0.0, 0.0, 0.0, 0.0, 0.0, 0.0, 0.0, 0.0, 0.0, 0.0, 0.0, 0.0, 0.0, 0.0, 0.0, 0.0, 0.0, 0.0, 0.0, 0.0, 0.0, 0.0, 0.0, 0.0, 0.0, 0.0, 0.0, 0.0, 0.0, 0.0, 0.0, 0.0, 0.0, 0.0, 0.0, 0.0, 0.0, 0.0, 0.0, 0.0, 0.0, 0.0, 0.0, 0.0, 0.0, 0.0, 0.0, 0.0, 0.0, 0.0, 0.0, 0.0, 0.0, 0.0, 0.0, 0.0, 0.0, 0.0, 0.0, 0.0, 0.0, 0.0, 0.0, 0.0, 0.0, 0.0, 0.0, 0.0, 0.0, 0.0, 0.0, 0.0, 0.0, 0.0], [0.0, 0.0, 0.0, 0.0, 0.0, 0.0, 0.0, 0.0, 0.0, 0.0, 0.0, 0.0, 0.0, 0.0, 0.0, 0.0, 0.0, 0.0, 0.0, 0.0, 0.0, 0.0, 0.0, 0.0, 0.0, 0.0, 0.0, 0.0, 0.0, 0.0, 0.0, 0.0, 0.0, 0.0, 0.0, 0.0, 0.0, 0.0, 0.0, 0.0, 0.0, 0.0, 0.0, 0.0, 0.0, 0.0, 0.0, 0.0, 0.0, 0.0, 1.0, 0.0, 0.0, 0.0, 1.0, 0.0, 0.0, 0.0, 0.0, 0.0, 0.0, 0.0, 0.0, 0.0, 0.0, 0.0, 0.0, 0.0, 0.0, 0.0, 0.0, 0.0, 0.0, 0.0, 0.0, 0.0, 0.0, 0.0, 0.0, 0.0, 0.0, 0.0, 0.0, 0.0, 0.0, 0.0, 0.0, 0.0, 0.0, 0.0, 0.0, 0.0, 0.0, 0.0, 0.0, 0.0, 0.0, 0.0, 0.0, 0.0], [0.0, 0.0, 0.0, 1.0, 1.0, 0.0, 0.0, 0.0, 0.0, 0.0, 0.0, 0.0, 1.0, 0.0, 0.0, 0.0, 0.0, 1.0, 0.0, 0.0, 1.0, 1.0, 0.0, 0.0, 1.0, 0.0, 0.0, 1.0, 0.0, 0.0, 0.0, 0.0, 1.0, 0.0, 0.0, 0.0, 0.0, 0.0, 0.0, 0.0, 0.0, 1.0, 0.0, 1.0, 0.0, 0.0, 1.0, 0.0, 0.0, 1.0, 1.0, 0.0, 0.0, 1.0, 1.0, 0.0, 1.0, 1.0, 0.0, 0.0, 1.0, 0.0, 1.0, 0.0, 0.0, 0.0, 0.0, 0.0, 1.0, 1.0, 0.0, 0.0, 1.0, 0.0, 0.0, 1.0, 0.0, 0.0, 1.0, 1.0, 0.0, 0.0, 0.0, 1.0, 0.0, 1.0, 0.0, 0.0, 1.0, 0.0, 0.0, 0.0, 0.0, 1.0, 1.0, 0.0, 1.0, 0.0, 0.0, 0.0], [0.0, 0.0, 0.0, 0.0, 0.0, 0.0, 0.0, 0.0, 0.0, 0.0, 0.0, 0.0, 0.0, 0.0, 0.0, 0.0, 0.0, 0.0, 0.0, 0.0, 0.0, 0.0, 0.0, 0.0, 0.0, 0.0, 0.0, 0.0, 0.0, 0.0, 0.0, 0.0, 0.0, 0.0, 0.0, 0.0, 0.0, 0.0, 0.0, 0.0, 0.0, 0.0, 0.0, 0.0, 0.0, 0.0, 0.0, 0.0, 0.0, 0.0, 1.0, 0.0, 0.0, 0.0, 1.0, 0.0, 0.0, 0.0, 0.0, 0.0, 0.0, 0.0, 0.0, 0.0, 0.0, 0.0, 0.0, 0.0, 0.0, 0.0, 0.0, 0.0, 0.0, 0.0, 0.0, 0.0, 0.0, 0.0, 0.0, 0.0, 0.0, 0.0, 0.0, 0.0, 0.0, 0.0, 0.0, 0.0, 0.0, 0.0, 0.0, 0.0, 0.0, 0.0, 0.0, 0.0, 0.0, 0.0, 0.0, 0.0], [0.0, 0.0, 0.0, 0.0, 0.0, 0.0, 0.0, 0.0, 0.0, 0.0, 0.0, 0.0, 0.0, 0.0, 0.0, 0.0, 0.0, 0.0, 0.0, 0.0, 0.0, 0.0, 0.0, 0.0, 0.0, 0.0, 0.0, 0.0, 0.0, 0.0, 0.0, 0.0, 0.0, 0.0, 0.0, 0.0, 0.0, 0.0, 0.0, 0.0, 0.0, 0.0, 0.0, 0.0, 0.0, 0.0, 0.0, 0.0, 0.0, 0.0, 0.0, 0.0, 0.0, 0.0, 0.0, 0.0, 0.0, 0.0, 0.0, 0.0, 0.0, 0.0, 0.0, 0.0, 0.0, 0.0, 0.0, 0.0, 0.0, 0.0, 0.0, 0.0, 0.0, 0.0, 0.0, 0.0, 0.0, 0.0, 0.0, 0.0, 0.0, 0.0, 0.0, 0.0, 0.0, 0.0, 0.0, 0.0, 0.0, 0.0, 0.0, 0.0, 0.0, 0.0, 0.0, 0.0, 0.0, 0.0, 0.0, 0.0], [0.0, 0.0, 0.0, 0.0, 0.0, 0.0, 0.0, 0.0, 0.0, 0.0, 0.0, 0.0, 0.0, 0.0, 0.0, 0.0, 0.0, 0.0, 0.0, 0.0, 0.0, 0.0, 0.0, 0.0, 1.0, 0.0, 0.0, 0.0, 0.0, 0.0, 0.0, 0.0, 0.0, 0.0, 0.0, 0.0, 0.0, 0.0, 0.0, 0.0, 0.0, 0.0, 0.0, 0.0, 0.0, 0.0, 0.0, 0.0, 0.0, 0.0, 0.0, 0.0, 0.0, 0.0, 0.0, 0.0, 0.0, 0.0, 0.0, 1.0, 0.0, 0.0, 0.0, 0.0, 0.0, 0.0, 0.0, 0.0, 0.0, 0.0, 0.0, 0.0, 0.0, 0.0, 0.0, 0.0, 0.0, 0.0, 0.0, 0.0, 0.0, 0.0, 0.0, 0.0, 0.0, 0.0, 0.0, 0.0, 0.0, 0.0, 0.0, 0.0, 0.0, 0.0, 0.0, 0.0, 0.0, 0.0, 0.0, 0.0], [0.0, 0.0, 0.0, 0.0, 0.0, 0.0, 0.0, 0.0, 0.0, 0.0, 0.0, 0.0, 0.0, 0.0, 0.0, 0.0, 0.0, 0.0, 0.0, 0.0, 0.0, 0.0, 0.0, 0.0, 0.0, 0.0, 0.0, 0.0, 0.0, 0.0, 0.0, 0.0, 0.0, 0.0, 0.0, 0.0, 0.0, 0.0, 0.0, 0.0, 0.0, 0.0, 0.0, 0.0, 0.0, 0.0, 0.0, 0.0, 0.0, 0.0, 0.0, 0.0, 0.0, 0.0, 0.0, 0.0, 0.0, 0.0, 0.0, 0.0, 0.0, 0.0, 0.0, 0.0, 0.0, 0.0, 0.0, 0.0, 0.0, 0.0, 0.0, 0.0, 0.0, 0.0, 0.0, 0.0, 0.0, 0.0, 0.0, 0.0, 0.0, 0.0, 0.0, 0.0, 0.0, 0.0, 0.0, 0.0, 0.0, 0.0, 0.0, 0.0, 0.0, 0.0, 0.0, 0.0, 0.0, 0.0, 0.0, 0.0], [1.0, 0.0, 0.0, 0.0, 0.0, 0.0, 0.0, 0.0, 0.0, 0.0, 0.0, 0.0, 0.0, 0.0, 0.0, 0.0, 0.0, 0.0, 0.0, 0.0, 0.0, 0.0, 0.0, 0.0, 0.0, 0.0, 0.0, 0.0, 0.0, 0.0, 0.0, 0.0, 0.0, 0.0, 0.0, 0.0, 0.0, 0.0, 0.0, 0.0, 0.0, 1.0, 0.0, 0.0, 0.0, 0.0, 0.0, 0.0, 0.0, 0.0, 0.0, 0.0, 0.0, 0.0, 0.0, 0.0, 0.0, 0.0, 0.0, 0.0, 0.0, 0.0, 0.0, 0.0, 0.0, 0.0, 0.0, 0.0, 0.0, 0.0, 0.0, 0.0, 0.0, 0.0, 0.0, 0.0, 0.0, 0.0, 0.0, 0.0, 0.0, 0.0, 0.0, 0.0, 0.0, 0.0, 0.0, 0.0, 0.0, 0.0, 0.0, 0.0, 0.0, 0.0, 0.0, 0.0, 0.0, 0.0, 0.0, 0.0], [0.0, 0.0, 0.0, 0.0, 0.0, 0.0, 0.0, 0.0, 0.0, 0.0, 0.0, 0.0, 0.0, 0.0, 0.0, 0.0, 0.0, 0.0, 0.0, 0.0, 0.0, 0.0, 0.0, 0.0, 0.0, 0.0, 0.0, 0.0, 0.0, 0.0, 0.0, 0.0, 0.0, 0.0, 0.0, 0.0, 0.0, 0.0, 0.0, 0.0, 0.0, 0.0, 0.0, 0.0, 0.0, 0.0, 0.0, 0.0, 0.0, 0.0, 0.0, 0.0, 0.0, 0.0, 0.0, 0.0, 0.0, 0.0, 0.0, 0.0, 0.0, 0.0, 0.0, 0.0, 0.0, 0.0, 0.0, 0.0, 0.0, 0.0, 0.0, 0.0, 0.0, 0.0, 0.0, 0.0, 0.0, 0.0, 0.0, 0.0, 0.0, 0.0, 0.0, 0.0, 0.0, 0.0, 0.0, 0.0, 0.0, 0.0, 0.0, 0.0, 0.0, 0.0, 0.0, 0.0, 0.0, 0.0, 0.0, 0.0], [0.0, 0.0, 0.0, 0.0, 0.0, 0.0, 0.0, 0.0, 0.0, 0.0, 0.0, 0.0, 0.0, 0.0, 0.0, 0.0, 0.0, 0.0, 0.0, 0.0, 0.0, 0.0, 0.0, 0.0, 0.0, 0.0, 0.0, 0.0, 0.0, 0.0, 0.0, 0.0, 0.0, 0.0, 0.0, 0.0, 0.0, 0.0, 0.0, 0.0, 0.0, 0.0, 0.0, 0.0, 0.0, 0.0, 0.0, 0.0, 0.0, 0.0, 0.0, 0.0, 0.0, 0.0, 1.0, 0.0, 0.0, 0.0, 0.0, 0.0, 0.0, 0.0, 0.0, 0.0, 0.0, 0.0, 0.0, 0.0, 0.0, 0.0, 0.0, 0.0, 0.0, 0.0, 0.0, 0.0, 0.0, 0.0, 0.0, 0.0, 0.0, 0.0, 0.0, 0.0, 0.0, 0.0, 0.0, 0.0, 0.0, 0.0, 0.0, 0.0, 0.0, 0.0, 0.0, 0.0, 0.0, 0.0, 0.0, 0.0], [0.0, 0.0, 0.0, 0.0, 0.0, 0.0, 0.0, 0.0, 0.0, 0.0, 0.0, 0.0, 0.0, 0.0, 0.0, 0.0, 0.0, 0.0, 0.0, 0.0, 0.0, 0.0, 0.0, 0.0, 0.0, 0.0, 0.0, 0.0, 0.0, 0.0, 0.0, 0.0, 0.0, 0.0, 0.0, 0.0, 0.0, 0.0, 0.0, 0.0, 0.0, 0.0, 0.0, 0.0, 0.0, 0.0, 0.0, 0.0, 0.0, 0.0, 0.0, 0.0, 0.0, 0.0, 0.0, 0.0, 0.0, 0.0, 0.0, 0.0, 0.0, 0.0, 0.0, 0.0, 0.0, 0.0, 0.0, 0.0, 0.0, 0.0, 0.0, 0.0, 0.0, 0.0, 0.0, 0.0, 0.0, 0.0, 0.0, 0.0, 0.0, 0.0, 0.0, 0.0, 0.0, 0.0, 0.0, 0.0, 0.0, 0.0, 0.0, 0.0, 0.0, 0.0, 0.0, 0.0, 0.0, 0.0, 0.0, 0.0], [0.0, 0.0, 0.0, 0.0, 0.0, 0.0, 1.0, 0.0, 0.0, 0.0, 0.0, 0.0, 1.0, 1.0, 0.0, 0.0, 0.0, 0.0, 0.0, 0.0, 0.0, 0.0, 0.0, 0.0, 0.0, 0.0, 0.0, 0.0, 0.0, 1.0, 0.0, 0.0, 0.0, 0.0, 0.0, 0.0, 0.0, 0.0, 0.0, 0.0, 0.0, 1.0, 0.0, 0.0, 0.0, 0.0, 0.0, 0.0, 0.0, 0.0, 0.0, 0.0, 0.0, 0.0, 0.0, 0.0, 0.0, 0.0, 0.0, 1.0, 0.0, 0.0, 0.0, 0.0, 0.0, 0.0, 0.0, 0.0, 0.0, 0.0, 1.0, 0.0, 0.0, 1.0, 0.0, 0.0, 0.0, 0.0, 0.0, 0.0, 0.0, 0.0, 0.0, 0.0, 0.0, 0.0, 0.0, 0.0, 0.0, 0.0, 0.0, 0.0, 0.0, 0.0, 0.0, 0.0, 0.0, 0.0, 0.0, 0.0], [0.0, 0.0, 0.0, 0.0, 0.0, 0.0, 0.0, 0.0, 0.0, 0.0, 0.0, 0.0, 0.0, 0.0, 0.0, 0.0, 0.0, 0.0, 0.0, 0.0, 0.0, 0.0, 0.0, 0.0, 0.0, 0.0, 0.0, 0.0, 0.0, 0.0, 0.0, 0.0, 0.0, 0.0, 0.0, 0.0, 0.0, 0.0, 0.0, 0.0, 0.0, 0.0, 0.0, 0.0, 0.0, 0.0, 0.0, 0.0, 0.0, 0.0, 0.0, 0.0, 0.0, 0.0, 0.0, 0.0, 0.0, 0.0, 0.0, 0.0, 0.0, 0.0, 0.0, 0.0, 0.0, 0.0, 0.0, 0.0, 0.0, 0.0, 0.0, 0.0, 0.0, 0.0, 0.0, 0.0, 0.0, 0.0, 0.0, 0.0, 0.0, 0.0, 0.0, 0.0, 0.0, 0.0, 0.0, 0.0, 0.0, 0.0, 0.0, 0.0, 0.0, 0.0, 0.0, 0.0, 0.0, 0.0, 0.0, 0.0], [0.0, 0.0, 0.0, 0.0, 0.0, 0.0, 0.0, 0.0, 0.0, 0.0, 0.0, 0.0, 0.0, 0.0, 0.0, 0.0, 0.0, 0.0, 0.0, 0.0, 0.0, 0.0, 0.0, 0.0, 0.0, 0.0, 0.0, 0.0, 0.0, 0.0, 0.0, 0.0, 0.0, 0.0, 0.0, 0.0, 0.0, 0.0, 0.0, 0.0, 0.0, 0.0, 0.0, 0.0, 0.0, 0.0, 0.0, 0.0, 0.0, 0.0, 0.0, 0.0, 0.0, 0.0, 0.0, 0.0, 0.0, 0.0, 0.0, 0.0, 0.0, 0.0, 0.0, 0.0, 0.0, 0.0, 0.0, 0.0, 0.0, 0.0, 0.0, 0.0, 0.0, 0.0, 0.0, 0.0, 0.0, 0.0, 0.0, 0.0, 0.0, 0.0, 0.0, 0.0, 0.0, 0.0, 0.0, 0.0, 0.0, 0.0, 0.0, 0.0, 0.0, 0.0, 0.0, 0.0, 0.0, 0.0, 0.0, 0.0], [0.0, 0.0, 0.0, 0.0, 0.0, 0.0, 0.0, 0.0, 0.0, 0.0, 0.0, 0.0, 0.0, 0.0, 0.0, 0.0, 0.0, 0.0, 0.0, 0.0, 0.0, 0.0, 0.0, 1.0, 0.0, 0.0, 1.0, 1.0, 1.0, 0.0, 0.0, 0.0, 0.0, 0.0, 1.0, 0.0, 0.0, 0.0, 0.0, 0.0, 0.0, 0.0, 0.0, 0.0, 1.0, 0.0, 0.0, 0.0, 1.0, 0.0, 1.0, 0.0, 0.0, 0.0, 1.0, 0.0, 0.0, 0.0, 0.0, 0.0, 0.0, 1.0, 0.0, 0.0, 0.0, 0.0, 0.0, 0.0, 0.0, 1.0, 0.0, 0.0, 0.0, 0.0, 0.0, 0.0, 0.0, 0.0, 0.0, 0.0, 0.0, 0.0, 0.0, 0.0, 0.0, 0.0, 0.0, 0.0, 0.0, 0.0, 0.0, 0.0, 0.0, 0.0, 0.0, 0.0, 0.0, 0.0, 0.0, 1.0], [0.0, 0.0, 0.0, 0.0, 0.0, 0.0, 0.0, 0.0, 0.0, 0.0, 0.0, 0.0, 0.0, 0.0, 0.0, 0.0, 0.0, 0.0, 0.0, 0.0, 0.0, 0.0, 0.0, 0.0, 0.0, 0.0, 0.0, 0.0, 0.0, 0.0, 0.0, 0.0, 0.0, 0.0, 0.0, 0.0, 0.0, 0.0, 0.0, 0.0, 0.0, 0.0, 0.0, 0.0, 0.0, 0.0, 0.0, 0.0, 0.0, 0.0, 1.0, 0.0, 0.0, 0.0, 0.0, 0.0, 0.0, 0.0, 0.0, 0.0, 0.0, 0.0, 0.0, 0.0, 0.0, 0.0, 0.0, 0.0, 0.0, 0.0, 0.0, 0.0, 0.0, 0.0, 0.0, 0.0, 0.0, 0.0, 0.0, 0.0, 0.0, 0.0, 0.0, 0.0, 0.0, 0.0, 0.0, 0.0, 0.0, 0.0, 0.0, 0.0, 0.0, 0.0, 0.0, 0.0, 0.0, 0.0, 0.0, 0.0], [0.0, 0.0, 0.0, 0.0, 0.0, 0.0, 0.0, 0.0, 0.0, 0.0, 0.0, 0.0, 0.0, 0.0, 0.0, 0.0, 0.0, 0.0, 0.0, 0.0, 0.0, 0.0, 0.0, 0.0, 0.0, 0.0, 0.0, 0.0, 0.0, 0.0, 0.0, 0.0, 0.0, 0.0, 0.0, 0.0, 0.0, 0.0, 0.0, 0.0, 0.0, 0.0, 0.0, 0.0, 0.0, 0.0, 0.0, 0.0, 0.0, 0.0, 0.0, 0.0, 0.0, 0.0, 0.0, 0.0, 0.0, 0.0, 0.0, 0.0, 0.0, 0.0, 0.0, 0.0, 0.0, 0.0, 0.0, 0.0, 0.0, 0.0, 0.0, 0.0, 0.0, 0.0, 0.0, 0.0, 0.0, 0.0, 0.0, 0.0, 0.0, 0.0, 0.0, 0.0, 0.0, 0.0, 0.0, 0.0, 0.0, 0.0, 0.0, 0.0, 0.0, 0.0, 0.0, 0.0, 0.0, 0.0, 0.0, 0.0], [1.0, 0.0, 0.0, 0.0, 0.0, 0.0, 0.0, 0.0, 0.0, 0.0, 0.0, 0.0, 0.0, 0.0, 0.0, 0.0, 0.0, 1.0, 0.0, 0.0, 0.0, 0.0, 0.0, 0.0, 0.0, 0.0, 0.0, 0.0, 0.0, 0.0, 0.0, 0.0, 0.0, 0.0, 0.0, 0.0, 0.0, 0.0, 0.0, 0.0, 0.0, 0.0, 0.0, 0.0, 0.0, 0.0, 0.0, 0.0, 0.0, 0.0, 0.0, 0.0, 0.0, 0.0, 0.0, 0.0, 0.0, 0.0, 0.0, 0.0, 0.0, 0.0, 0.0, 0.0, 0.0, 0.0, 0.0, 0.0, 0.0, 0.0, 1.0, 0.0, 0.0, 0.0, 0.0, 0.0, 0.0, 0.0, 0.0, 0.0, 0.0, 0.0, 0.0, 0.0, 0.0, 0.0, 0.0, 0.0, 0.0, 0.0, 0.0, 0.0, 0.0, 0.0, 0.0, 0.0, 0.0, 0.0, 0.0, 0.0], [0.0, 0.0, 0.0, 0.0, 0.0, 0.0, 0.0, 0.0, 0.0, 0.0, 0.0, 0.0, 0.0, 0.0, 0.0, 0.0, 0.0, 0.0, 0.0, 0.0, 0.0, 0.0, 0.0, 0.0, 0.0, 0.0, 0.0, 0.0, 0.0, 0.0, 0.0, 0.0, 0.0, 0.0, 0.0, 0.0, 0.0, 0.0, 0.0, 0.0, 0.0, 0.0, 0.0, 0.0, 0.0, 0.0, 0.0, 0.0, 0.0, 0.0, 0.0, 0.0, 0.0, 0.0, 0.0, 0.0, 0.0, 0.0, 0.0, 0.0, 0.0, 0.0, 0.0, 0.0, 0.0, 0.0, 0.0, 0.0, 0.0, 0.0, 0.0, 0.0, 0.0, 0.0, 0.0, 0.0, 0.0, 0.0, 0.0, 0.0, 0.0, 0.0, 0.0, 0.0, 0.0, 0.0, 0.0, 0.0, 0.0, 0.0, 0.0, 0.0, 0.0, 0.0, 0.0, 0.0, 0.0, 0.0, 0.0, 0.0], [0.0, 0.0, 0.0, 0.0, 0.0, 0.0, 0.0, 0.0, 0.0, 0.0, 0.0, 0.0, 0.0, 0.0, 0.0, 0.0, 0.0, 0.0, 0.0, 0.0, 0.0, 0.0, 0.0, 0.0, 0.0, 0.0, 0.0, 0.0, 0.0, 0.0, 0.0, 0.0, 0.0, 0.0, 0.0, 0.0, 0.0, 0.0, 0.0, 0.0, 0.0, 0.0, 0.0, 0.0, 0.0, 0.0, 0.0, 0.0, 0.0, 0.0, 0.0, 0.0, 0.0, 0.0, 0.0, 0.0, 0.0, 0.0, 0.0, 0.0, 0.0, 0.0, 0.0, 0.0, 0.0, 0.0, 0.0, 0.0, 0.0, 0.0, 0.0, 0.0, 0.0, 0.0, 0.0, 0.0, 0.0, 0.0, 0.0, 0.0, 0.0, 0.0, 0.0, 0.0, 0.0, 0.0, 0.0, 0.0, 0.0, 0.0, 0.0, 0.0, 0.0, 0.0, 0.0, 0.0, 0.0, 0.0, 0.0, 0.0], [0.0, 0.0, 0.0, 0.0, 0.0, 0.0, 0.0, 0.0, 0.0, 0.0, 0.0, 0.0, 0.0, 0.0, 0.0, 0.0, 0.0, 0.0, 0.0, 0.0, 0.0, 0.0, 0.0, 0.0, 0.0, 0.0, 0.0, 0.0, 0.0, 0.0, 0.0, 0.0, 0.0, 0.0, 0.0, 0.0, 0.0, 0.0, 0.0, 0.0, 0.0, 0.0, 0.0, 0.0, 0.0, 0.0, 0.0, 0.0, 0.0, 0.0, 0.0, 1.0, 0.0, 0.0, 1.0, 0.0, 0.0, 0.0, 0.0, 0.0, 0.0, 0.0, 0.0, 0.0, 0.0, 0.0, 0.0, 0.0, 0.0, 0.0, 1.0, 0.0, 0.0, 0.0, 0.0, 0.0, 0.0, 0.0, 0.0, 0.0, 0.0, 0.0, 0.0, 0.0, 0.0, 0.0, 0.0, 0.0, 0.0, 0.0, 0.0, 0.0, 0.0, 0.0, 0.0, 0.0, 0.0, 0.0, 0.0, 0.0], [0.0, 0.0, 0.0, 0.0, 0.0, 0.0, 0.0, 0.0, 0.0, 0.0, 0.0, 0.0, 0.0, 0.0, 0.0, 0.0, 0.0, 0.0, 0.0, 0.0, 0.0, 0.0, 0.0, 0.0, 0.0, 0.0, 0.0, 0.0, 0.0, 0.0, 0.0, 0.0, 0.0, 0.0, 0.0, 0.0, 0.0, 0.0, 0.0, 0.0, 0.0, 0.0, 0.0, 0.0, 0.0, 0.0, 0.0, 0.0, 0.0, 0.0, 0.0, 0.0, 0.0, 0.0, 0.0, 0.0, 0.0, 0.0, 0.0, 0.0, 0.0, 0.0, 0.0, 0.0, 0.0, 0.0, 0.0, 0.0, 0.0, 0.0, 0.0, 0.0, 0.0, 0.0, 0.0, 0.0, 0.0, 0.0, 0.0, 0.0, 0.0, 0.0, 0.0, 0.0, 0.0, 0.0, 0.0, 0.0, 0.0, 0.0, 0.0, 0.0, 0.0, 0.0, 0.0, 0.0, 0.0, 0.0, 0.0, 0.0], [0.0, 0.0, 0.0, 0.0, 0.0, 0.0, 0.0, 0.0, 0.0, 0.0, 0.0, 0.0, 0.0, 0.0, 0.0, 0.0, 0.0, 1.0, 0.0, 0.0, 0.0, 0.0, 0.0, 0.0, 1.0, 0.0, 0.0, 0.0, 0.0, 0.0, 0.0, 0.0, 0.0, 0.0, 0.0, 0.0, 0.0, 0.0, 0.0, 0.0, 0.0, 0.0, 0.0, 0.0, 0.0, 0.0, 1.0, 0.0, 0.0, 0.0, 1.0, 0.0, 0.0, 0.0, 0.0, 0.0, 0.0, 0.0, 0.0, 0.0, 0.0, 0.0, 0.0, 0.0, 0.0, 0.0, 0.0, 0.0, 0.0, 0.0, 0.0, 0.0, 0.0, 0.0, 0.0, 0.0, 0.0, 0.0, 0.0, 0.0, 0.0, 0.0, 0.0, 0.0, 0.0, 0.0, 0.0, 0.0, 0.0, 0.0, 0.0, 0.0, 0.0, 0.0, 0.0, 0.0, 0.0, 0.0, 0.0, 0.0], [0.0, 0.0, 0.0, 0.0, 0.0, 0.0, 0.0, 0.0, 0.0, 0.0, 0.0, 0.0, 0.0, 0.0, 0.0, 0.0, 0.0, 0.0, 0.0, 0.0, 0.0, 0.0, 0.0, 0.0, 0.0, 0.0, 0.0, 0.0, 0.0, 0.0, 0.0, 0.0, 0.0, 0.0, 0.0, 0.0, 0.0, 0.0, 0.0, 0.0, 0.0, 0.0, 0.0, 0.0, 0.0, 0.0, 0.0, 0.0, 0.0, 0.0, 0.0, 0.0, 0.0, 0.0, 0.0, 0.0, 0.0, 0.0, 0.0, 0.0, 0.0, 0.0, 0.0, 0.0, 0.0, 0.0, 0.0, 0.0, 0.0, 0.0, 0.0, 0.0, 0.0, 0.0, 0.0, 0.0, 0.0, 0.0, 0.0, 0.0, 0.0, 0.0, 0.0, 0.0, 0.0, 0.0, 0.0, 0.0, 0.0, 0.0, 0.0, 0.0, 0.0, 0.0, 0.0, 0.0, 0.0, 0.0, 0.0, 0.0], [0.0, 0.0, 0.0, 0.0, 0.0, 0.0, 0.0, 0.0, 0.0, 0.0, 0.0, 0.0, 0.0, 0.0, 0.0, 0.0, 0.0, 0.0, 0.0, 0.0, 0.0, 0.0, 0.0, 0.0, 0.0, 0.0, 0.0, 0.0, 0.0, 0.0, 0.0, 0.0, 0.0, 0.0, 0.0, 0.0, 0.0, 0.0, 0.0, 0.0, 0.0, 0.0, 0.0, 0.0, 0.0, 0.0, 0.0, 0.0, 0.0, 0.0, 1.0, 0.0, 0.0, 0.0, 0.0, 0.0, 0.0, 0.0, 0.0, 0.0, 0.0, 0.0, 0.0, 0.0, 0.0, 0.0, 0.0, 0.0, 0.0, 0.0, 0.0, 0.0, 0.0, 0.0, 0.0, 0.0, 0.0, 0.0, 0.0, 0.0, 0.0, 0.0, 0.0, 0.0, 0.0, 0.0, 0.0, 0.0, 0.0, 0.0, 0.0, 0.0, 0.0, 0.0, 0.0, 0.0, 0.0, 0.0, 0.0, 0.0], [0.0, 0.0, 0.0, 0.0, 0.0, 0.0, 0.0, 0.0, 0.0, 0.0, 0.0, 0.0, 0.0, 0.0, 0.0, 0.0, 0.0, 0.0, 0.0, 0.0, 0.0, 0.0, 0.0, 0.0, 0.0, 0.0, 0.0, 0.0, 0.0, 0.0, 0.0, 0.0, 0.0, 0.0, 0.0, 0.0, 0.0, 0.0, 0.0, 0.0, 0.0, 0.0, 0.0, 0.0, 0.0, 0.0, 0.0, 0.0, 0.0, 0.0, 0.0, 0.0, 0.0, 0.0, 0.0, 0.0, 0.0, 0.0, 0.0, 0.0, 0.0, 0.0, 0.0, 0.0, 0.0, 0.0, 0.0, 0.0, 0.0, 0.0, 0.0, 0.0, 0.0, 0.0, 0.0, 0.0, 0.0, 0.0, 0.0, 0.0, 0.0, 0.0, 0.0, 0.0, 0.0, 0.0, 0.0, 0.0, 0.0, 0.0, 0.0, 0.0, 0.0, 0.0, 0.0, 0.0, 0.0, 0.0, 0.0, 0.0], [0.0, 0.0, 0.0, 0.0, 0.0, 0.0, 0.0, 0.0, 0.0, 0.0, 0.0, 0.0, 0.0, 0.0, 0.0, 0.0, 0.0, 0.0, 0.0, 0.0, 0.0, 0.0, 0.0, 0.0, 0.0, 0.0, 0.0, 0.0, 0.0, 0.0, 0.0, 0.0, 0.0, 0.0, 0.0, 0.0, 0.0, 0.0, 0.0, 0.0, 0.0, 0.0, 0.0, 0.0, 0.0, 0.0, 0.0, 0.0, 0.0, 0.0, 0.0, 0.0, 0.0, 0.0, 0.0, 0.0, 0.0, 0.0, 0.0, 0.0, 0.0, 0.0, 0.0, 0.0, 0.0, 0.0, 0.0, 0.0, 0.0, 0.0, 0.0, 0.0, 0.0, 0.0, 0.0, 0.0, 0.0, 0.0, 0.0, 0.0, 0.0, 0.0, 0.0, 0.0, 0.0, 0.0, 0.0, 0.0, 0.0, 0.0, 0.0, 0.0, 0.0, 0.0, 0.0, 0.0, 0.0, 0.0, 0.0, 0.0], [0.0, 0.0, 0.0, 0.0, 0.0, 0.0, 0.0, 0.0, 0.0, 0.0, 0.0, 0.0, 0.0, 0.0, 0.0, 0.0, 0.0, 0.0, 0.0, 0.0, 0.0, 0.0, 0.0, 0.0, 0.0, 0.0, 0.0, 0.0, 0.0, 0.0, 0.0, 0.0, 0.0, 0.0, 0.0, 0.0, 0.0, 0.0, 0.0, 0.0, 0.0, 0.0, 0.0, 0.0, 0.0, 0.0, 0.0, 0.0, 0.0, 0.0, 0.0, 0.0, 0.0, 0.0, 0.0, 0.0, 0.0, 0.0, 0.0, 0.0, 0.0, 0.0, 0.0, 0.0, 0.0, 0.0, 0.0, 0.0, 0.0, 0.0, 0.0, 0.0, 0.0, 0.0, 0.0, 0.0, 0.0, 0.0, 0.0, 0.0, 0.0, 0.0, 0.0, 0.0, 0.0, 0.0, 0.0, 0.0, 0.0, 0.0, 0.0, 0.0, 0.0, 0.0, 0.0, 0.0, 0.0, 0.0, 0.0, 0.0], [0.0, 0.0, 0.0, 0.0, 0.0, 0.0, 0.0, 0.0, 0.0, 0.0, 0.0, 0.0, 0.0, 0.0, 0.0, 0.0, 0.0, 0.0, 0.0, 0.0, 0.0, 0.0, 0.0, 0.0, 0.0, 0.0, 0.0, 0.0, 0.0, 0.0, 0.0, 0.0, 0.0, 0.0, 0.0, 0.0, 0.0, 0.0, 0.0, 0.0, 0.0, 0.0, 0.0, 0.0, 0.0, 0.0, 0.0, 0.0, 0.0, 0.0, 0.0, 0.0, 0.0, 0.0, 0.0, 0.0, 0.0, 0.0, 0.0, 0.0, 0.0, 0.0, 0.0, 0.0, 0.0, 0.0, 0.0, 0.0, 0.0, 0.0, 0.0, 0.0, 0.0, 0.0, 0.0, 0.0, 0.0, 0.0, 0.0, 0.0, 0.0, 0.0, 0.0, 0.0, 0.0, 0.0, 0.0, 0.0, 0.0, 0.0, 0.0, 0.0, 0.0, 0.0, 0.0, 0.0, 0.0, 0.0, 0.0, 0.0], [0.0, 0.0, 0.0, 0.0, 0.0, 0.0, 0.0, 0.0, 0.0, 0.0, 0.0, 0.0, 0.0, 0.0, 0.0, 0.0, 0.0, 0.0, 0.0, 0.0, 0.0, 0.0, 0.0, 0.0, 0.0, 0.0, 0.0, 0.0, 0.0, 0.0, 0.0, 0.0, 0.0, 0.0, 0.0, 0.0, 0.0, 0.0, 0.0, 0.0, 0.0, 0.0, 0.0, 0.0, 0.0, 0.0, 0.0, 0.0, 0.0, 0.0, 0.0, 0.0, 0.0, 0.0, 0.0, 0.0, 0.0, 0.0, 0.0, 0.0, 0.0, 0.0, 0.0, 0.0, 0.0, 0.0, 0.0, 0.0, 0.0, 0.0, 0.0, 0.0, 0.0, 0.0, 0.0, 0.0, 0.0, 0.0, 0.0, 0.0, 0.0, 0.0, 0.0, 0.0, 0.0, 0.0, 0.0, 0.0, 0.0, 0.0, 0.0, 0.0, 0.0, 0.0, 0.0, 0.0, 0.0, 0.0, 0.0, 0.0], [0.0, 0.0, 0.0, 0.0, 0.0, 0.0, 0.0, 0.0, 0.0, 0.0, 0.0, 0.0, 0.0, 0.0, 0.0, 0.0, 0.0, 0.0, 0.0, 0.0, 0.0, 0.0, 0.0, 0.0, 0.0, 0.0, 0.0, 0.0, 0.0, 0.0, 0.0, 0.0, 0.0, 0.0, 0.0, 0.0, 0.0, 0.0, 0.0, 0.0, 0.0, 0.0, 0.0, 0.0, 0.0, 0.0, 0.0, 0.0, 0.0, 0.0, 0.0, 0.0, 0.0, 0.0, 0.0, 0.0, 0.0, 0.0, 0.0, 0.0, 0.0, 0.0, 0.0, 0.0, 0.0, 0.0, 0.0, 0.0, 0.0, 0.0, 0.0, 0.0, 0.0, 0.0, 0.0, 0.0, 0.0, 0.0, 0.0, 0.0, 0.0, 0.0, 0.0, 0.0, 0.0, 0.0, 0.0, 0.0, 0.0, 0.0, 0.0, 0.0, 0.0, 0.0, 0.0, 0.0, 0.0, 0.0, 0.0, 0.0], [0.0, 0.0, 0.0, 0.0, 0.0, 0.0, 0.0, 0.0, 0.0, 0.0, 0.0, 0.0, 0.0, 0.0, 0.0, 0.0, 0.0, 0.0, 0.0, 0.0, 0.0, 0.0, 0.0, 0.0, 0.0, 0.0, 0.0, 0.0, 0.0, 0.0, 0.0, 0.0, 0.0, 0.0, 0.0, 0.0, 0.0, 0.0, 0.0, 0.0, 0.0, 0.0, 0.0, 0.0, 0.0, 0.0, 0.0, 0.0, 0.0, 0.0, 0.0, 0.0, 0.0, 0.0, 0.0, 0.0, 0.0, 0.0, 0.0, 0.0, 0.0, 0.0, 0.0, 0.0, 0.0, 0.0, 0.0, 0.0, 0.0, 0.0, 0.0, 0.0, 0.0, 0.0, 0.0, 0.0, 0.0, 0.0, 0.0, 0.0, 0.0, 0.0, 0.0, 0.0, 0.0, 0.0, 0.0, 0.0, 0.0, 0.0, 0.0, 0.0, 0.0, 0.0, 0.0, 0.0, 0.0, 0.0, 0.0, 0.0], [0.0, 0.0, 0.0, 0.0, 0.0, 0.0, 0.0, 0.0, 0.0, 0.0, 0.0, 0.0, 0.0, 0.0, 0.0, 0.0, 0.0, 0.0, 0.0, 0.0, 0.0, 0.0, 0.0, 0.0, 0.0, 0.0, 0.0, 0.0, 0.0, 0.0, 0.0, 0.0, 0.0, 0.0, 0.0, 0.0, 0.0, 0.0, 0.0, 0.0, 0.0, 0.0, 0.0, 0.0, 0.0, 0.0, 0.0, 0.0, 0.0, 0.0, 0.0, 0.0, 0.0, 0.0, 0.0, 0.0, 0.0, 0.0, 0.0, 0.0, 0.0, 0.0, 0.0, 0.0, 0.0, 0.0, 0.0, 0.0, 0.0, 0.0, 0.0, 0.0, 0.0, 0.0, 0.0, 0.0, 0.0, 0.0, 0.0, 0.0, 0.0, 0.0, 0.0, 0.0, 0.0, 0.0, 0.0, 0.0, 0.0, 0.0, 0.0, 0.0, 0.0, 0.0, 0.0, 0.0, 0.0, 0.0, 0.0, 0.0], [0.0, 0.0, 0.0, 0.0, 0.0, 0.0, 0.0, 0.0, 0.0, 0.0, 0.0, 0.0, 0.0, 0.0, 0.0, 0.0, 0.0, 0.0, 0.0, 0.0, 0.0, 0.0, 0.0, 0.0, 0.0, 0.0, 0.0, 0.0, 0.0, 0.0, 0.0, 0.0, 0.0, 0.0, 0.0, 0.0, 0.0, 0.0, 0.0, 0.0, 0.0, 0.0, 0.0, 0.0, 0.0, 0.0, 0.0, 0.0, 0.0, 0.0, 0.0, 0.0, 0.0, 0.0, 0.0, 0.0, 0.0, 0.0, 0.0, 0.0, 0.0, 0.0, 0.0, 0.0, 0.0, 0.0, 0.0, 0.0, 0.0, 0.0, 0.0, 0.0, 0.0, 0.0, 0.0, 0.0, 0.0, 0.0, 0.0, 0.0, 0.0, 0.0, 0.0, 0.0, 0.0, 0.0, 0.0, 0.0, 0.0, 0.0, 0.0, 0.0, 0.0, 0.0, 0.0, 0.0, 0.0, 0.0, 0.0, 0.0], [0.0, 0.0, 0.0, 0.0, 0.0, 0.0, 0.0, 0.0, 0.0, 0.0, 0.0, 0.0, 0.0, 0.0, 0.0, 0.0, 0.0, 0.0, 0.0, 0.0, 0.0, 0.0, 0.0, 0.0, 0.0, 0.0, 0.0, 0.0, 0.0, 0.0, 0.0, 0.0, 0.0, 0.0, 0.0, 0.0, 0.0, 0.0, 0.0, 0.0, 0.0, 0.0, 0.0, 0.0, 0.0, 0.0, 0.0, 0.0, 0.0, 0.0, 0.0, 0.0, 0.0, 0.0, 0.0, 0.0, 0.0, 0.0, 0.0, 0.0, 0.0, 0.0, 0.0, 0.0, 0.0, 0.0, 0.0, 0.0, 0.0, 0.0, 0.0, 0.0, 0.0, 0.0, 0.0, 0.0, 0.0, 0.0, 0.0, 0.0, 0.0, 0.0, 0.0, 0.0, 0.0, 0.0, 0.0, 0.0, 0.0, 0.0, 0.0, 0.0, 0.0, 0.0, 0.0, 0.0, 0.0, 0.0, 0.0, 0.0], [1.0, 0.0, 0.0, 0.0, 0.0, 0.0, 0.0, 0.0, 0.0, 0.0, 0.0, 0.0, 1.0, 0.0, 0.0, 0.0, 0.0, 0.0, 0.0, 0.0, 0.0, 0.0, 0.0, 1.0, 1.0, 0.0, 0.0, 0.0, 0.0, 0.0, 0.0, 0.0, 0.0, 0.0, 0.0, 0.0, 0.0, 0.0, 0.0, 0.0, 0.0, 1.0, 0.0, 0.0, 0.0, 0.0, 0.0, 0.0, 0.0, 0.0, 0.0, 0.0, 1.0, 0.0, 0.0, 0.0, 0.0, 0.0, 0.0, 0.0, 0.0, 1.0, 0.0, 0.0, 0.0, 0.0, 0.0, 0.0, 0.0, 0.0, 0.0, 0.0, 0.0, 0.0, 0.0, 0.0, 0.0, 0.0, 0.0, 0.0, 0.0, 0.0, 0.0, 0.0, 0.0, 0.0, 0.0, 0.0, 0.0, 0.0, 0.0, 0.0, 0.0, 0.0, 0.0, 0.0, 0.0, 0.0, 0.0, 0.0], [0.0, 0.0, 0.0, 0.0, 0.0, 0.0, 0.0, 0.0, 0.0, 0.0, 0.0, 0.0, 0.0, 0.0, 0.0, 0.0, 0.0, 0.0, 0.0, 0.0, 0.0, 0.0, 0.0, 0.0, 0.0, 0.0, 0.0, 0.0, 0.0, 0.0, 0.0, 0.0, 0.0, 0.0, 0.0, 0.0, 0.0, 0.0, 0.0, 0.0, 0.0, 0.0, 0.0, 0.0, 0.0, 0.0, 0.0, 0.0, 0.0, 0.0, 0.0, 0.0, 0.0, 0.0, 0.0, 0.0, 0.0, 0.0, 0.0, 0.0, 0.0, 0.0, 0.0, 0.0, 0.0, 0.0, 0.0, 0.0, 0.0, 0.0, 0.0, 0.0, 0.0, 0.0, 0.0, 0.0, 0.0, 0.0, 0.0, 0.0, 0.0, 0.0, 0.0, 0.0, 0.0, 0.0, 0.0, 0.0, 0.0, 0.0, 0.0, 0.0, 0.0, 0.0, 0.0, 0.0, 0.0, 0.0, 0.0, 0.0], [1.0, 0.0, 0.0, 0.0, 1.0, 0.0, 0.0, 1.0, 0.0, 0.0, 0.0, 0.0, 0.0, 0.0, 0.0, 0.0, 1.0, 0.0, 0.0, 0.0, 0.0, 0.0, 0.0, 0.0, 0.0, 0.0, 0.0, 0.0, 0.0, 0.0, 0.0, 0.0, 0.0, 0.0, 0.0, 0.0, 0.0, 0.0, 0.0, 0.0, 0.0, 0.0, 0.0, 0.0, 0.0, 1.0, 0.0, 1.0, 1.0, 0.0, 1.0, 0.0, 0.0, 0.0, 0.0, 0.0, 0.0, 0.0, 0.0, 0.0, 0.0, 0.0, 0.0, 0.0, 0.0, 0.0, 0.0, 0.0, 0.0, 1.0, 0.0, 0.0, 0.0, 1.0, 0.0, 0.0, 0.0, 0.0, 0.0, 0.0, 0.0, 0.0, 0.0, 0.0, 0.0, 0.0, 1.0, 0.0, 0.0, 0.0, 0.0, 0.0, 0.0, 0.0, 0.0, 0.0, 0.0, 1.0, 0.0, 0.0], [0.0, 0.0, 0.0, 0.0, 0.0, 0.0, 0.0, 0.0, 0.0, 0.0, 0.0, 0.0, 0.0, 0.0, 0.0, 0.0, 0.0, 0.0, 0.0, 0.0, 0.0, 0.0, 0.0, 0.0, 0.0, 0.0, 0.0, 0.0, 0.0, 0.0, 0.0, 0.0, 0.0, 0.0, 0.0, 0.0, 0.0, 0.0, 0.0, 0.0, 0.0, 0.0, 0.0, 0.0, 0.0, 0.0, 0.0, 0.0, 0.0, 0.0, 0.0, 0.0, 0.0, 0.0, 0.0, 0.0, 0.0, 0.0, 0.0, 0.0, 0.0, 0.0, 0.0, 0.0, 0.0, 0.0, 0.0, 0.0, 0.0, 0.0, 0.0, 0.0, 0.0, 0.0, 0.0, 0.0, 0.0, 0.0, 0.0, 0.0, 0.0, 0.0, 0.0, 0.0, 0.0, 0.0, 0.0, 0.0, 0.0, 0.0, 0.0, 0.0, 0.0, 0.0, 0.0, 0.0, 0.0, 0.0, 0.0, 0.0], [0.0, 0.0, 0.0, 0.0, 0.0, 0.0, 0.0, 0.0, 0.0, 0.0, 0.0, 0.0, 0.0, 0.0, 0.0, 0.0, 0.0, 0.0, 0.0, 0.0, 0.0, 0.0, 0.0, 0.0, 0.0, 0.0, 0.0, 0.0, 0.0, 0.0, 0.0, 0.0, 0.0, 0.0, 0.0, 0.0, 0.0, 0.0, 0.0, 0.0, 0.0, 0.0, 0.0, 0.0, 0.0, 0.0, 0.0, 0.0, 0.0, 0.0, 0.0, 0.0, 0.0, 0.0, 0.0, 0.0, 0.0, 0.0, 0.0, 0.0, 0.0, 0.0, 0.0, 0.0, 0.0, 0.0, 0.0, 0.0, 0.0, 0.0, 0.0, 0.0, 0.0, 0.0, 0.0, 0.0, 0.0, 0.0, 0.0, 0.0, 0.0, 0.0, 0.0, 0.0, 0.0, 0.0, 0.0, 0.0, 0.0, 0.0, 0.0, 0.0, 0.0, 0.0, 0.0, 0.0, 0.0, 0.0, 0.0, 0.0], [0.0, 0.0, 0.0, 0.0, 0.0, 0.0, 0.0, 0.0, 0.0, 0.0, 0.0, 0.0, 0.0, 0.0, 0.0, 0.0, 0.0, 0.0, 0.0, 0.0, 0.0, 0.0, 0.0, 0.0, 0.0, 0.0, 0.0, 0.0, 0.0, 0.0, 0.0, 0.0, 0.0, 0.0, 0.0, 0.0, 0.0, 0.0, 0.0, 0.0, 0.0, 0.0, 0.0, 0.0, 0.0, 0.0, 0.0, 0.0, 0.0, 0.0, 0.0, 0.0, 0.0, 0.0, 0.0, 0.0, 0.0, 0.0, 0.0, 0.0, 0.0, 0.0, 0.0, 0.0, 0.0, 0.0, 0.0, 0.0, 0.0, 0.0, 0.0, 0.0, 0.0, 0.0, 0.0, 0.0, 0.0, 0.0, 0.0, 0.0, 0.0, 0.0, 0.0, 0.0, 0.0, 0.0, 0.0, 0.0, 0.0, 0.0, 0.0, 0.0, 0.0, 0.0, 0.0, 0.0, 0.0, 0.0, 0.0, 0.0], [0.0, 0.0, 0.0, 0.0, 0.0, 0.0, 0.0, 0.0, 0.0, 0.0, 0.0, 0.0, 0.0, 0.0, 0.0, 0.0, 0.0, 0.0, 0.0, 0.0, 0.0, 0.0, 0.0, 0.0, 0.0, 0.0, 0.0, 0.0, 0.0, 0.0, 0.0, 0.0, 0.0, 0.0, 0.0, 0.0, 0.0, 0.0, 0.0, 0.0, 0.0, 0.0, 0.0, 0.0, 0.0, 0.0, 0.0, 0.0, 0.0, 0.0, 0.0, 0.0, 0.0, 0.0, 0.0, 0.0, 0.0, 0.0, 0.0, 0.0, 0.0, 0.0, 0.0, 0.0, 0.0, 0.0, 0.0, 0.0, 0.0, 0.0, 0.0, 0.0, 0.0, 0.0, 0.0, 0.0, 0.0, 0.0, 0.0, 0.0, 0.0, 0.0, 0.0, 0.0, 0.0, 0.0, 0.0, 0.0, 0.0, 0.0, 0.0, 0.0, 0.0, 0.0, 0.0, 0.0, 0.0, 0.0, 0.0, 0.0], [0.0, 0.0, 0.0, 0.0, 0.0, 0.0, 0.0, 0.0, 0.0, 0.0, 0.0, 0.0, 0.0, 0.0, 0.0, 0.0, 0.0, 0.0, 0.0, 0.0, 0.0, 0.0, 0.0, 0.0, 0.0, 0.0, 0.0, 0.0, 0.0, 0.0, 0.0, 0.0, 0.0, 0.0, 0.0, 0.0, 0.0, 0.0, 0.0, 0.0, 0.0, 0.0, 0.0, 0.0, 0.0, 0.0, 0.0, 0.0, 0.0, 0.0, 0.0, 0.0, 0.0, 0.0, 0.0, 0.0, 0.0, 0.0, 0.0, 0.0, 0.0, 0.0, 0.0, 0.0, 0.0, 0.0, 0.0, 0.0, 0.0, 0.0, 0.0, 0.0, 0.0, 0.0, 0.0, 0.0, 0.0, 0.0, 0.0, 0.0, 0.0, 0.0, 0.0, 0.0, 0.0, 0.0, 0.0, 0.0, 0.0, 0.0, 0.0, 0.0, 0.0, 0.0, 0.0, 0.0, 0.0, 0.0, 0.0, 0.0], [1.0, 0.0, 0.0, 0.0, 0.0, 0.0, 0.0, 0.0, 0.0, 0.0, 0.0, 0.0, 0.0, 0.0, 0.0, 0.0, 0.0, 0.0, 0.0, 0.0, 0.0, 0.0, 0.0, 0.0, 0.0, 0.0, 0.0, 0.0, 0.0, 0.0, 0.0, 0.0, 0.0, 0.0, 0.0, 0.0, 0.0, 0.0, 0.0, 0.0, 0.0, 0.0, 0.0, 0.0, 0.0, 0.0, 0.0, 0.0, 0.0, 0.0, 0.0, 0.0, 0.0, 0.0, 0.0, 0.0, 0.0, 0.0, 0.0, 0.0, 0.0, 0.0, 0.0, 0.0, 0.0, 0.0, 0.0, 0.0, 0.0, 0.0, 0.0, 0.0, 0.0, 0.0, 0.0, 0.0, 0.0, 0.0, 0.0, 0.0, 0.0, 0.0, 0.0, 0.0, 0.0, 0.0, 0.0, 0.0, 0.0, 0.0, 0.0, 0.0, 0.0, 0.0, 0.0, 0.0, 0.0, 0.0, 0.0, 0.0], [0.0, 0.0, 0.0, 0.0, 0.0, 0.0, 0.0, 0.0, 0.0, 0.0, 0.0, 0.0, 0.0, 0.0, 0.0, 0.0, 0.0, 0.0, 0.0, 0.0, 0.0, 0.0, 0.0, 0.0, 0.0, 0.0, 0.0, 0.0, 0.0, 0.0, 0.0, 0.0, 0.0, 0.0, 0.0, 0.0, 0.0, 0.0, 0.0, 0.0, 0.0, 0.0, 0.0, 0.0, 0.0, 0.0, 0.0, 0.0, 0.0, 0.0, 0.0, 0.0, 0.0, 0.0, 0.0, 0.0, 0.0, 0.0, 0.0, 0.0, 0.0, 0.0, 0.0, 0.0, 0.0, 0.0, 0.0, 0.0, 0.0, 0.0, 0.0, 0.0, 0.0, 0.0, 0.0, 0.0, 0.0, 0.0, 0.0, 0.0, 0.0, 0.0, 0.0, 0.0, 0.0, 0.0, 0.0, 0.0, 0.0, 0.0, 0.0, 0.0, 0.0, 0.0, 0.0, 0.0, 0.0, 0.0, 0.0, 0.0], [0.0, 0.0, 0.0, 0.0, 0.0, 0.0, 0.0, 0.0, 0.0, 0.0, 0.0, 0.0, 0.0, 0.0, 0.0, 0.0, 0.0, 0.0, 0.0, 0.0, 0.0, 0.0, 0.0, 0.0, 0.0, 0.0, 0.0, 0.0, 0.0, 0.0, 0.0, 0.0, 0.0, 0.0, 0.0, 0.0, 0.0, 0.0, 0.0, 0.0, 0.0, 0.0, 0.0, 0.0, 0.0, 0.0, 0.0, 0.0, 0.0, 0.0, 0.0, 0.0, 0.0, 0.0, 0.0, 0.0, 0.0, 0.0, 0.0, 0.0, 0.0, 0.0, 0.0, 0.0, 0.0, 0.0, 0.0, 0.0, 0.0, 0.0, 0.0, 0.0, 0.0, 0.0, 0.0, 0.0, 0.0, 0.0, 0.0, 0.0, 0.0, 0.0, 0.0, 0.0, 0.0, 0.0, 0.0, 0.0, 0.0, 0.0, 0.0, 0.0, 0.0, 0.0, 0.0, 0.0, 0.0, 0.0, 0.0, 0.0], [0.0, 0.0, 0.0, 0.0, 0.0, 0.0, 0.0, 0.0, 0.0, 0.0, 0.0, 0.0, 0.0, 0.0, 0.0, 0.0, 0.0, 0.0, 0.0, 0.0, 0.0, 0.0, 0.0, 0.0, 0.0, 0.0, 0.0, 0.0, 0.0, 0.0, 0.0, 0.0, 0.0, 0.0, 0.0, 0.0, 0.0, 0.0, 0.0, 0.0, 0.0, 0.0, 0.0, 0.0, 0.0, 0.0, 0.0, 0.0, 0.0, 0.0, 0.0, 0.0, 0.0, 0.0, 0.0, 0.0, 0.0, 0.0, 0.0, 0.0, 0.0, 0.0, 0.0, 0.0, 0.0, 0.0, 0.0, 0.0, 0.0, 0.0, 0.0, 0.0, 0.0, 0.0, 0.0, 0.0, 0.0, 0.0, 0.0, 0.0, 0.0, 0.0, 0.0, 0.0, 0.0, 0.0, 0.0, 0.0, 0.0, 0.0, 0.0, 0.0, 0.0, 0.0, 0.0, 0.0, 0.0, 0.0, 0.0, 0.0], [0.0, 0.0, 0.0, 0.0, 0.0, 0.0, 0.0, 0.0, 0.0, 0.0, 0.0, 0.0, 0.0, 0.0, 0.0, 0.0, 0.0, 0.0, 0.0, 0.0, 0.0, 0.0, 0.0, 0.0, 0.0, 0.0, 0.0, 0.0, 0.0, 0.0, 0.0, 0.0, 0.0, 0.0, 0.0, 0.0, 0.0, 0.0, 0.0, 0.0, 0.0, 0.0, 0.0, 0.0, 0.0, 0.0, 0.0, 0.0, 0.0, 0.0, 0.0, 0.0, 0.0, 0.0, 0.0, 0.0, 0.0, 0.0, 0.0, 0.0, 0.0, 0.0, 0.0, 0.0, 0.0, 0.0, 0.0, 0.0, 0.0, 0.0, 0.0, 0.0, 0.0, 0.0, 0.0, 0.0, 0.0, 0.0, 0.0, 0.0, 0.0, 0.0, 0.0, 0.0, 0.0, 0.0, 0.0, 0.0, 0.0, 0.0, 0.0, 0.0, 0.0, 0.0, 0.0, 0.0, 0.0, 0.0, 0.0, 0.0], [0.0, 0.0, 0.0, 0.0, 0.0, 0.0, 0.0, 0.0, 0.0, 0.0, 0.0, 0.0, 0.0, 0.0, 0.0, 0.0, 0.0, 0.0, 0.0, 0.0, 0.0, 0.0, 0.0, 0.0, 0.0, 0.0, 0.0, 0.0, 0.0, 0.0, 0.0, 0.0, 0.0, 0.0, 0.0, 0.0, 0.0, 0.0, 0.0, 0.0, 0.0, 0.0, 0.0, 0.0, 0.0, 0.0, 0.0, 0.0, 0.0, 0.0, 0.0, 0.0, 0.0, 0.0, 0.0, 0.0, 0.0, 0.0, 0.0, 0.0, 0.0, 0.0, 0.0, 0.0, 0.0, 0.0, 0.0, 0.0, 0.0, 0.0, 0.0, 0.0, 0.0, 0.0, 0.0, 0.0, 0.0, 0.0, 0.0, 0.0, 0.0, 0.0, 0.0, 0.0, 0.0, 0.0, 0.0, 0.0, 0.0, 0.0, 0.0, 0.0, 0.0, 0.0, 0.0, 0.0, 0.0, 0.0, 0.0, 0.0], [0.0, 0.0, 0.0, 0.0, 0.0, 0.0, 0.0, 0.0, 0.0, 0.0, 0.0, 0.0, 0.0, 0.0, 0.0, 0.0, 0.0, 0.0, 0.0, 0.0, 0.0, 0.0, 0.0, 0.0, 0.0, 0.0, 0.0, 0.0, 0.0, 0.0, 0.0, 0.0, 0.0, 0.0, 0.0, 0.0, 0.0, 0.0, 0.0, 0.0, 0.0, 0.0, 0.0, 0.0, 0.0, 0.0, 0.0, 0.0, 0.0, 0.0, 0.0, 0.0, 0.0, 0.0, 0.0, 0.0, 0.0, 0.0, 0.0, 0.0, 0.0, 0.0, 0.0, 0.0, 0.0, 0.0, 0.0, 0.0, 0.0, 0.0, 0.0, 0.0, 0.0, 0.0, 0.0, 0.0, 0.0, 0.0, 0.0, 0.0, 0.0, 0.0, 0.0, 0.0, 0.0, 0.0, 0.0, 0.0, 0.0, 0.0, 0.0, 0.0, 0.0, 0.0, 0.0, 0.0, 0.0, 0.0, 0.0, 0.0], [0.0, 0.0, 0.0, 0.0, 0.0, 0.0, 0.0, 0.0, 0.0, 0.0, 0.0, 0.0, 0.0, 0.0, 0.0, 0.0, 0.0, 0.0, 0.0, 0.0, 0.0, 0.0, 0.0, 0.0, 1.0, 0.0, 0.0, 0.0, 0.0, 0.0, 0.0, 0.0, 0.0, 0.0, 0.0, 0.0, 0.0, 0.0, 0.0, 0.0, 0.0, 0.0, 0.0, 0.0, 0.0, 0.0, 0.0, 0.0, 0.0, 0.0, 0.0, 0.0, 0.0, 0.0, 0.0, 0.0, 0.0, 0.0, 0.0, 0.0, 0.0, 0.0, 0.0, 0.0, 0.0, 0.0, 0.0, 0.0, 0.0, 0.0, 0.0, 0.0, 0.0, 0.0, 0.0, 0.0, 0.0, 0.0, 0.0, 0.0, 0.0, 0.0, 0.0, 0.0, 0.0, 0.0, 0.0, 0.0, 0.0, 0.0, 0.0, 0.0, 0.0, 0.0, 0.0, 0.0, 0.0, 0.0, 0.0, 0.0], [0.0, 0.0, 0.0, 0.0, 0.0, 0.0, 0.0, 0.0, 0.0, 0.0, 0.0, 0.0, 0.0, 0.0, 0.0, 0.0, 0.0, 0.0, 0.0, 0.0, 0.0, 0.0, 0.0, 0.0, 0.0, 0.0, 0.0, 0.0, 0.0, 0.0, 0.0, 0.0, 0.0, 0.0, 0.0, 0.0, 0.0, 0.0, 0.0, 0.0, 0.0, 0.0, 0.0, 0.0, 0.0, 0.0, 0.0, 0.0, 0.0, 0.0, 0.0, 0.0, 0.0, 0.0, 0.0, 0.0, 0.0, 0.0, 0.0, 0.0, 0.0, 0.0, 0.0, 0.0, 0.0, 0.0, 0.0, 0.0, 0.0, 0.0, 0.0, 0.0, 0.0, 0.0, 0.0, 0.0, 0.0, 0.0, 0.0, 0.0, 0.0, 0.0, 0.0, 0.0, 0.0, 0.0, 0.0, 0.0, 0.0, 0.0, 0.0, 0.0, 0.0, 0.0, 1.0, 0.0, 0.0, 0.0, 0.0, 1.0]]}],\n",
              "                        {\"coloraxis\": {\"colorscale\": [[0.0, \"#0d0887\"], [0.1111111111111111, \"#46039f\"], [0.2222222222222222, \"#7201a8\"], [0.3333333333333333, \"#9c179e\"], [0.4444444444444444, \"#bd3786\"], [0.5555555555555556, \"#d8576b\"], [0.6666666666666666, \"#ed7953\"], [0.7777777777777778, \"#fb9f3a\"], [0.8888888888888888, \"#fdca26\"], [1.0, \"#f0f921\"]]}, \"height\": 400, \"margin\": {\"b\": 10, \"l\": 10, \"r\": 10, \"t\": 10}, \"template\": {\"data\": {\"bar\": [{\"error_x\": {\"color\": \"#2a3f5f\"}, \"error_y\": {\"color\": \"#2a3f5f\"}, \"marker\": {\"line\": {\"color\": \"#E5ECF6\", \"width\": 0.5}}, \"type\": \"bar\"}], \"barpolar\": [{\"marker\": {\"line\": {\"color\": \"#E5ECF6\", \"width\": 0.5}}, \"type\": \"barpolar\"}], \"carpet\": [{\"aaxis\": {\"endlinecolor\": \"#2a3f5f\", \"gridcolor\": \"white\", \"linecolor\": \"white\", \"minorgridcolor\": \"white\", \"startlinecolor\": \"#2a3f5f\"}, \"baxis\": {\"endlinecolor\": \"#2a3f5f\", \"gridcolor\": \"white\", \"linecolor\": \"white\", \"minorgridcolor\": \"white\", \"startlinecolor\": \"#2a3f5f\"}, \"type\": \"carpet\"}], \"choropleth\": [{\"colorbar\": {\"outlinewidth\": 0, \"ticks\": \"\"}, \"type\": \"choropleth\"}], \"contour\": [{\"colorbar\": {\"outlinewidth\": 0, \"ticks\": \"\"}, \"colorscale\": [[0.0, \"#0d0887\"], [0.1111111111111111, \"#46039f\"], [0.2222222222222222, \"#7201a8\"], [0.3333333333333333, \"#9c179e\"], [0.4444444444444444, \"#bd3786\"], [0.5555555555555556, \"#d8576b\"], [0.6666666666666666, \"#ed7953\"], [0.7777777777777778, \"#fb9f3a\"], [0.8888888888888888, \"#fdca26\"], [1.0, \"#f0f921\"]], \"type\": \"contour\"}], \"contourcarpet\": [{\"colorbar\": {\"outlinewidth\": 0, \"ticks\": \"\"}, \"type\": \"contourcarpet\"}], \"heatmap\": [{\"colorbar\": {\"outlinewidth\": 0, \"ticks\": \"\"}, \"colorscale\": [[0.0, \"#0d0887\"], [0.1111111111111111, \"#46039f\"], [0.2222222222222222, \"#7201a8\"], [0.3333333333333333, \"#9c179e\"], [0.4444444444444444, \"#bd3786\"], [0.5555555555555556, \"#d8576b\"], [0.6666666666666666, \"#ed7953\"], [0.7777777777777778, \"#fb9f3a\"], [0.8888888888888888, \"#fdca26\"], [1.0, \"#f0f921\"]], \"type\": \"heatmap\"}], \"heatmapgl\": [{\"colorbar\": {\"outlinewidth\": 0, \"ticks\": \"\"}, \"colorscale\": [[0.0, \"#0d0887\"], [0.1111111111111111, \"#46039f\"], [0.2222222222222222, \"#7201a8\"], [0.3333333333333333, \"#9c179e\"], [0.4444444444444444, \"#bd3786\"], [0.5555555555555556, \"#d8576b\"], [0.6666666666666666, \"#ed7953\"], [0.7777777777777778, \"#fb9f3a\"], [0.8888888888888888, \"#fdca26\"], [1.0, \"#f0f921\"]], \"type\": \"heatmapgl\"}], \"histogram\": [{\"marker\": {\"colorbar\": {\"outlinewidth\": 0, \"ticks\": \"\"}}, \"type\": \"histogram\"}], \"histogram2d\": [{\"colorbar\": {\"outlinewidth\": 0, \"ticks\": \"\"}, \"colorscale\": [[0.0, \"#0d0887\"], [0.1111111111111111, \"#46039f\"], [0.2222222222222222, \"#7201a8\"], [0.3333333333333333, \"#9c179e\"], [0.4444444444444444, \"#bd3786\"], [0.5555555555555556, \"#d8576b\"], [0.6666666666666666, \"#ed7953\"], [0.7777777777777778, \"#fb9f3a\"], [0.8888888888888888, \"#fdca26\"], [1.0, \"#f0f921\"]], \"type\": \"histogram2d\"}], \"histogram2dcontour\": [{\"colorbar\": {\"outlinewidth\": 0, \"ticks\": \"\"}, \"colorscale\": [[0.0, \"#0d0887\"], [0.1111111111111111, \"#46039f\"], [0.2222222222222222, \"#7201a8\"], [0.3333333333333333, \"#9c179e\"], [0.4444444444444444, \"#bd3786\"], [0.5555555555555556, \"#d8576b\"], [0.6666666666666666, \"#ed7953\"], [0.7777777777777778, \"#fb9f3a\"], [0.8888888888888888, \"#fdca26\"], [1.0, \"#f0f921\"]], \"type\": \"histogram2dcontour\"}], \"mesh3d\": [{\"colorbar\": {\"outlinewidth\": 0, \"ticks\": \"\"}, \"type\": \"mesh3d\"}], \"parcoords\": [{\"line\": {\"colorbar\": {\"outlinewidth\": 0, \"ticks\": \"\"}}, \"type\": \"parcoords\"}], \"pie\": [{\"automargin\": true, \"type\": \"pie\"}], \"scatter\": [{\"marker\": {\"colorbar\": {\"outlinewidth\": 0, \"ticks\": \"\"}}, \"type\": \"scatter\"}], \"scatter3d\": [{\"line\": {\"colorbar\": {\"outlinewidth\": 0, \"ticks\": \"\"}}, \"marker\": {\"colorbar\": {\"outlinewidth\": 0, \"ticks\": \"\"}}, \"type\": \"scatter3d\"}], \"scattercarpet\": [{\"marker\": {\"colorbar\": {\"outlinewidth\": 0, \"ticks\": \"\"}}, \"type\": \"scattercarpet\"}], \"scattergeo\": [{\"marker\": {\"colorbar\": {\"outlinewidth\": 0, \"ticks\": \"\"}}, \"type\": \"scattergeo\"}], \"scattergl\": [{\"marker\": {\"colorbar\": {\"outlinewidth\": 0, \"ticks\": \"\"}}, \"type\": \"scattergl\"}], \"scattermapbox\": [{\"marker\": {\"colorbar\": {\"outlinewidth\": 0, \"ticks\": \"\"}}, \"type\": \"scattermapbox\"}], \"scatterpolar\": [{\"marker\": {\"colorbar\": {\"outlinewidth\": 0, \"ticks\": \"\"}}, \"type\": \"scatterpolar\"}], \"scatterpolargl\": [{\"marker\": {\"colorbar\": {\"outlinewidth\": 0, \"ticks\": \"\"}}, \"type\": \"scatterpolargl\"}], \"scatterternary\": [{\"marker\": {\"colorbar\": {\"outlinewidth\": 0, \"ticks\": \"\"}}, \"type\": \"scatterternary\"}], \"surface\": [{\"colorbar\": {\"outlinewidth\": 0, \"ticks\": \"\"}, \"colorscale\": [[0.0, \"#0d0887\"], [0.1111111111111111, \"#46039f\"], [0.2222222222222222, \"#7201a8\"], [0.3333333333333333, \"#9c179e\"], [0.4444444444444444, \"#bd3786\"], [0.5555555555555556, \"#d8576b\"], [0.6666666666666666, \"#ed7953\"], [0.7777777777777778, \"#fb9f3a\"], [0.8888888888888888, \"#fdca26\"], [1.0, \"#f0f921\"]], \"type\": \"surface\"}], \"table\": [{\"cells\": {\"fill\": {\"color\": \"#EBF0F8\"}, \"line\": {\"color\": \"white\"}}, \"header\": {\"fill\": {\"color\": \"#C8D4E3\"}, \"line\": {\"color\": \"white\"}}, \"type\": \"table\"}]}, \"layout\": {\"annotationdefaults\": {\"arrowcolor\": \"#2a3f5f\", \"arrowhead\": 0, \"arrowwidth\": 1}, \"coloraxis\": {\"colorbar\": {\"outlinewidth\": 0, \"ticks\": \"\"}}, \"colorscale\": {\"diverging\": [[0, \"#8e0152\"], [0.1, \"#c51b7d\"], [0.2, \"#de77ae\"], [0.3, \"#f1b6da\"], [0.4, \"#fde0ef\"], [0.5, \"#f7f7f7\"], [0.6, \"#e6f5d0\"], [0.7, \"#b8e186\"], [0.8, \"#7fbc41\"], [0.9, \"#4d9221\"], [1, \"#276419\"]], \"sequential\": [[0.0, \"#0d0887\"], [0.1111111111111111, \"#46039f\"], [0.2222222222222222, \"#7201a8\"], [0.3333333333333333, \"#9c179e\"], [0.4444444444444444, \"#bd3786\"], [0.5555555555555556, \"#d8576b\"], [0.6666666666666666, \"#ed7953\"], [0.7777777777777778, \"#fb9f3a\"], [0.8888888888888888, \"#fdca26\"], [1.0, \"#f0f921\"]], \"sequentialminus\": [[0.0, \"#0d0887\"], [0.1111111111111111, \"#46039f\"], [0.2222222222222222, \"#7201a8\"], [0.3333333333333333, \"#9c179e\"], [0.4444444444444444, \"#bd3786\"], [0.5555555555555556, \"#d8576b\"], [0.6666666666666666, \"#ed7953\"], [0.7777777777777778, \"#fb9f3a\"], [0.8888888888888888, \"#fdca26\"], [1.0, \"#f0f921\"]]}, \"colorway\": [\"#636efa\", \"#EF553B\", \"#00cc96\", \"#ab63fa\", \"#FFA15A\", \"#19d3f3\", \"#FF6692\", \"#B6E880\", \"#FF97FF\", \"#FECB52\"], \"font\": {\"color\": \"#2a3f5f\"}, \"geo\": {\"bgcolor\": \"white\", \"lakecolor\": \"white\", \"landcolor\": \"#E5ECF6\", \"showlakes\": true, \"showland\": true, \"subunitcolor\": \"white\"}, \"hoverlabel\": {\"align\": \"left\"}, \"hovermode\": \"closest\", \"mapbox\": {\"style\": \"light\"}, \"paper_bgcolor\": \"white\", \"plot_bgcolor\": \"#E5ECF6\", \"polar\": {\"angularaxis\": {\"gridcolor\": \"white\", \"linecolor\": \"white\", \"ticks\": \"\"}, \"bgcolor\": \"#E5ECF6\", \"radialaxis\": {\"gridcolor\": \"white\", \"linecolor\": \"white\", \"ticks\": \"\"}}, \"scene\": {\"xaxis\": {\"backgroundcolor\": \"#E5ECF6\", \"gridcolor\": \"white\", \"gridwidth\": 2, \"linecolor\": \"white\", \"showbackground\": true, \"ticks\": \"\", \"zerolinecolor\": \"white\"}, \"yaxis\": {\"backgroundcolor\": \"#E5ECF6\", \"gridcolor\": \"white\", \"gridwidth\": 2, \"linecolor\": \"white\", \"showbackground\": true, \"ticks\": \"\", \"zerolinecolor\": \"white\"}, \"zaxis\": {\"backgroundcolor\": \"#E5ECF6\", \"gridcolor\": \"white\", \"gridwidth\": 2, \"linecolor\": \"white\", \"showbackground\": true, \"ticks\": \"\", \"zerolinecolor\": \"white\"}}, \"shapedefaults\": {\"line\": {\"color\": \"#2a3f5f\"}}, \"ternary\": {\"aaxis\": {\"gridcolor\": \"white\", \"linecolor\": \"white\", \"ticks\": \"\"}, \"baxis\": {\"gridcolor\": \"white\", \"linecolor\": \"white\", \"ticks\": \"\"}, \"bgcolor\": \"#E5ECF6\", \"caxis\": {\"gridcolor\": \"white\", \"linecolor\": \"white\", \"ticks\": \"\"}}, \"title\": {\"x\": 0.05}, \"xaxis\": {\"automargin\": true, \"gridcolor\": \"white\", \"linecolor\": \"white\", \"ticks\": \"\", \"title\": {\"standoff\": 15}, \"zerolinecolor\": \"white\", \"zerolinewidth\": 2}, \"yaxis\": {\"automargin\": true, \"gridcolor\": \"white\", \"linecolor\": \"white\", \"ticks\": \"\", \"title\": {\"standoff\": 15}, \"zerolinecolor\": \"white\", \"zerolinewidth\": 2}}}, \"width\": 400, \"xaxis\": {\"constrain\": \"domain\", \"scaleanchor\": \"y\", \"showticklabels\": false}, \"yaxis\": {\"autorange\": \"reversed\", \"constrain\": \"domain\", \"showticklabels\": false}},\n",
              "                        {\"responsive\": true}\n",
              "                    ).then(function(){\n",
              "                            \n",
              "var gd = document.getElementById('0ce85fc0-eab1-4c70-b9c4-843de5c1f744');\n",
              "var x = new MutationObserver(function (mutations, observer) {{\n",
              "        var display = window.getComputedStyle(gd).display;\n",
              "        if (!display || display === 'none') {{\n",
              "            console.log([gd, 'removed!']);\n",
              "            Plotly.purge(gd);\n",
              "            observer.disconnect();\n",
              "        }}\n",
              "}});\n",
              "\n",
              "// Listen for the removal of the full notebook cells\n",
              "var notebookContainer = gd.closest('#notebook-container');\n",
              "if (notebookContainer) {{\n",
              "    x.observe(notebookContainer, {childList: true});\n",
              "}}\n",
              "\n",
              "// Listen for the clearing of the current output cell\n",
              "var outputEl = gd.closest('.output');\n",
              "if (outputEl) {{\n",
              "    x.observe(outputEl, {childList: true});\n",
              "}}\n",
              "\n",
              "                        })\n",
              "                };\n",
              "                \n",
              "            </script>\n",
              "        </div>\n",
              "</body>\n",
              "</html>"
            ]
          },
          "metadata": {
            "tags": []
          }
        }
      ]
    }
  ]
}